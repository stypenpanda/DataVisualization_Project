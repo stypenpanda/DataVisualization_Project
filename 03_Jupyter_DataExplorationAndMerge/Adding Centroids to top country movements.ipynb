{
 "cells": [
  {
   "cell_type": "code",
   "execution_count": 1,
   "metadata": {
    "collapsed": true
   },
   "outputs": [],
   "source": [
    "import pandas as pd\n",
    "from ggplot import *\n",
    "%matplotlib inline"
   ]
  },
  {
   "cell_type": "markdown",
   "metadata": {},
   "source": [
    "# Load centroid and top 10 flows"
   ]
  },
  {
   "cell_type": "code",
   "execution_count": 11,
   "metadata": {
    "collapsed": false
   },
   "outputs": [],
   "source": [
    "dfCentroids = pd.read_csv('../01_OrigData/country_centroids_all.csv', sep = '\\t')"
   ]
  },
  {
   "cell_type": "code",
   "execution_count": 12,
   "metadata": {
    "collapsed": false
   },
   "outputs": [
    {
     "data": {
      "text/html": [
       "<div>\n",
       "<table border=\"1\" class=\"dataframe\">\n",
       "  <thead>\n",
       "    <tr style=\"text-align: right;\">\n",
       "      <th></th>\n",
       "      <th>LAT</th>\n",
       "      <th>LONG</th>\n",
       "      <th>DMS_LAT</th>\n",
       "      <th>DMS_LONG</th>\n",
       "      <th>MGRS</th>\n",
       "      <th>JOG</th>\n",
       "      <th>DSG</th>\n",
       "      <th>AFFIL</th>\n",
       "      <th>FIPS10</th>\n",
       "      <th>SHORT_NAME</th>\n",
       "      <th>FULL_NAME</th>\n",
       "      <th>MOD_DATE</th>\n",
       "      <th>ISO3136</th>\n",
       "    </tr>\n",
       "  </thead>\n",
       "  <tbody>\n",
       "    <tr>\n",
       "      <th>0</th>\n",
       "      <td>33.000000</td>\n",
       "      <td>66.0</td>\n",
       "      <td>330000</td>\n",
       "      <td>660000</td>\n",
       "      <td>42STB1970055286</td>\n",
       "      <td>NI42-09</td>\n",
       "      <td>PCLI</td>\n",
       "      <td>NaN</td>\n",
       "      <td>AF</td>\n",
       "      <td>Afghanistan</td>\n",
       "      <td>Islamic Republic of Afghanistan</td>\n",
       "      <td>2009-04-10</td>\n",
       "      <td>AF</td>\n",
       "    </tr>\n",
       "    <tr>\n",
       "      <th>1</th>\n",
       "      <td>41.000000</td>\n",
       "      <td>20.0</td>\n",
       "      <td>410000</td>\n",
       "      <td>200000</td>\n",
       "      <td>34TDL1589839239</td>\n",
       "      <td>NK34-08</td>\n",
       "      <td>PCLI</td>\n",
       "      <td>NaN</td>\n",
       "      <td>AL</td>\n",
       "      <td>Albania</td>\n",
       "      <td>Republic of Albania</td>\n",
       "      <td>2007-02-28</td>\n",
       "      <td>AL</td>\n",
       "    </tr>\n",
       "    <tr>\n",
       "      <th>2</th>\n",
       "      <td>28.000000</td>\n",
       "      <td>3.0</td>\n",
       "      <td>280000</td>\n",
       "      <td>30000</td>\n",
       "      <td>31REL0000097202</td>\n",
       "      <td>NH31-15</td>\n",
       "      <td>PCLI</td>\n",
       "      <td>NaN</td>\n",
       "      <td>AG</td>\n",
       "      <td>Algeria</td>\n",
       "      <td>People's Democratic Republic of Algeria</td>\n",
       "      <td>2011-03-03</td>\n",
       "      <td>DZ</td>\n",
       "    </tr>\n",
       "    <tr>\n",
       "      <th>3</th>\n",
       "      <td>-14.333333</td>\n",
       "      <td>-170.0</td>\n",
       "      <td>-142000</td>\n",
       "      <td>-1700000</td>\n",
       "      <td>1802701</td>\n",
       "      <td>NaN</td>\n",
       "      <td>PCLD</td>\n",
       "      <td>US</td>\n",
       "      <td>AS</td>\n",
       "      <td>American Samoa</td>\n",
       "      <td>Territory of American Samoa</td>\n",
       "      <td>1998-10-06</td>\n",
       "      <td>AS</td>\n",
       "    </tr>\n",
       "    <tr>\n",
       "      <th>4</th>\n",
       "      <td>42.500000</td>\n",
       "      <td>1.5</td>\n",
       "      <td>423000</td>\n",
       "      <td>13000</td>\n",
       "      <td>31TCH7675006383</td>\n",
       "      <td>NK31-04</td>\n",
       "      <td>PCLI</td>\n",
       "      <td>NaN</td>\n",
       "      <td>AN</td>\n",
       "      <td>Andorra</td>\n",
       "      <td>Principality of Andorra</td>\n",
       "      <td>2007-02-28</td>\n",
       "      <td>AD</td>\n",
       "    </tr>\n",
       "  </tbody>\n",
       "</table>\n",
       "</div>"
      ],
      "text/plain": [
       "         LAT   LONG  DMS_LAT  DMS_LONG             MGRS      JOG   DSG AFFIL  \\\n",
       "0  33.000000   66.0   330000    660000  42STB1970055286  NI42-09  PCLI   NaN   \n",
       "1  41.000000   20.0   410000    200000  34TDL1589839239  NK34-08  PCLI   NaN   \n",
       "2  28.000000    3.0   280000     30000  31REL0000097202  NH31-15  PCLI   NaN   \n",
       "3 -14.333333 -170.0  -142000  -1700000          1802701      NaN  PCLD    US   \n",
       "4  42.500000    1.5   423000     13000  31TCH7675006383  NK31-04  PCLI   NaN   \n",
       "\n",
       "  FIPS10      SHORT_NAME                                FULL_NAME    MOD_DATE  \\\n",
       "0     AF     Afghanistan          Islamic Republic of Afghanistan  2009-04-10   \n",
       "1     AL         Albania                      Republic of Albania  2007-02-28   \n",
       "2     AG         Algeria  People's Democratic Republic of Algeria  2011-03-03   \n",
       "3     AS  American Samoa              Territory of American Samoa  1998-10-06   \n",
       "4     AN         Andorra                  Principality of Andorra  2007-02-28   \n",
       "\n",
       "  ISO3136  \n",
       "0      AF  \n",
       "1      AL  \n",
       "2      DZ  \n",
       "3      AS  \n",
       "4      AD  "
      ]
     },
     "execution_count": 12,
     "metadata": {},
     "output_type": "execute_result"
    }
   ],
   "source": [
    "dfCentroids.head()"
   ]
  },
  {
   "cell_type": "code",
   "execution_count": 13,
   "metadata": {
    "collapsed": true
   },
   "outputs": [],
   "source": [
    "dfTop10Mig = pd.read_csv('../02_FlatData/MigrationPerCountry_Top10.csv', sep = ',')"
   ]
  },
  {
   "cell_type": "code",
   "execution_count": 14,
   "metadata": {
    "collapsed": false
   },
   "outputs": [
    {
     "data": {
      "text/html": [
       "<div>\n",
       "<table border=\"1\" class=\"dataframe\">\n",
       "  <thead>\n",
       "    <tr style=\"text-align: right;\">\n",
       "      <th></th>\n",
       "      <th>Country</th>\n",
       "      <th>Type</th>\n",
       "      <th>Coverage</th>\n",
       "      <th>OdName</th>\n",
       "      <th>Year</th>\n",
       "      <th>Migrants</th>\n",
       "      <th>Flow</th>\n",
       "    </tr>\n",
       "  </thead>\n",
       "  <tbody>\n",
       "    <tr>\n",
       "      <th>0</th>\n",
       "      <td>Germany</td>\n",
       "      <td>Immigrants</td>\n",
       "      <td>Both</td>\n",
       "      <td>Turkey</td>\n",
       "      <td>1980</td>\n",
       "      <td>213126</td>\n",
       "      <td>Turkey - Germany</td>\n",
       "    </tr>\n",
       "    <tr>\n",
       "      <th>1</th>\n",
       "      <td>Germany</td>\n",
       "      <td>Immigrants</td>\n",
       "      <td>Both</td>\n",
       "      <td>Italy</td>\n",
       "      <td>1980</td>\n",
       "      <td>88865</td>\n",
       "      <td>Italy - Germany</td>\n",
       "    </tr>\n",
       "    <tr>\n",
       "      <th>2</th>\n",
       "      <td>Germany</td>\n",
       "      <td>Immigrants</td>\n",
       "      <td>Both</td>\n",
       "      <td>Poland</td>\n",
       "      <td>1980</td>\n",
       "      <td>67940</td>\n",
       "      <td>Poland - Germany</td>\n",
       "    </tr>\n",
       "    <tr>\n",
       "      <th>3</th>\n",
       "      <td>United States</td>\n",
       "      <td>Immigrants</td>\n",
       "      <td>Foreigners</td>\n",
       "      <td>Mexico</td>\n",
       "      <td>1980</td>\n",
       "      <td>56680</td>\n",
       "      <td>Mexico - United States</td>\n",
       "    </tr>\n",
       "    <tr>\n",
       "      <th>4</th>\n",
       "      <td>Australia</td>\n",
       "      <td>Immigrants</td>\n",
       "      <td>Both</td>\n",
       "      <td>United Kingdom</td>\n",
       "      <td>1980</td>\n",
       "      <td>43540</td>\n",
       "      <td>United Kingdom - Australia</td>\n",
       "    </tr>\n",
       "  </tbody>\n",
       "</table>\n",
       "</div>"
      ],
      "text/plain": [
       "         Country        Type    Coverage          OdName  Year  Migrants  \\\n",
       "0        Germany  Immigrants        Both          Turkey  1980    213126   \n",
       "1        Germany  Immigrants        Both           Italy  1980     88865   \n",
       "2        Germany  Immigrants        Both          Poland  1980     67940   \n",
       "3  United States  Immigrants  Foreigners          Mexico  1980     56680   \n",
       "4      Australia  Immigrants        Both  United Kingdom  1980     43540   \n",
       "\n",
       "                         Flow  \n",
       "0            Turkey - Germany  \n",
       "1             Italy - Germany  \n",
       "2            Poland - Germany  \n",
       "3      Mexico - United States  \n",
       "4  United Kingdom - Australia  "
      ]
     },
     "execution_count": 14,
     "metadata": {},
     "output_type": "execute_result"
    }
   ],
   "source": [
    "dfTop10Mig.head()"
   ]
  },
  {
   "cell_type": "markdown",
   "metadata": {},
   "source": [
    "# Let's merge them to get the Longitude and Latitude"
   ]
  },
  {
   "cell_type": "code",
   "execution_count": 42,
   "metadata": {
    "collapsed": false
   },
   "outputs": [
    {
     "data": {
      "text/plain": [
       "array(['Immigrants'], dtype=object)"
      ]
     },
     "execution_count": 42,
     "metadata": {},
     "output_type": "execute_result"
    }
   ],
   "source": [
    "dfTop10Mig.Type.unique()"
   ]
  },
  {
   "cell_type": "markdown",
   "metadata": {},
   "source": [
    "Thus, there is only the immigrant view included .. which means that the origin is always in the column \"OdName\" while the destination is in the column \"Country\""
   ]
  },
  {
   "cell_type": "markdown",
   "metadata": {},
   "source": [
    "It is a pity that we do not have country codes in here which means that we test if we can match based on the columns \"Country\" and \"Short Name\""
   ]
  },
  {
   "cell_type": "code",
   "execution_count": 43,
   "metadata": {
    "collapsed": true
   },
   "outputs": [],
   "source": [
    "dfMerge1 = pd.merge(dfTop10Mig, dfCentroids[['SHORT_NAME', 'LAT', 'LONG']], how = 'left',\n",
    "                    left_on = 'Country', right_on = 'SHORT_NAME')"
   ]
  },
  {
   "cell_type": "code",
   "execution_count": 44,
   "metadata": {
    "collapsed": false
   },
   "outputs": [
    {
     "data": {
      "text/plain": [
       "United States     126\n",
       "Germany            88\n",
       "Australia          34\n",
       "Spain              22\n",
       "United Kingdom     12\n",
       "Italy              12\n",
       "Canada              6\n",
       "Croatia             1\n",
       "Name: SHORT_NAME, dtype: int64"
      ]
     },
     "execution_count": 44,
     "metadata": {},
     "output_type": "execute_result"
    }
   ],
   "source": [
    "dfMerge1['SHORT_NAME'].value_counts()"
   ]
  },
  {
   "cell_type": "code",
   "execution_count": 45,
   "metadata": {
    "collapsed": false
   },
   "outputs": [
    {
     "name": "stdout",
     "output_type": "stream",
     "text": [
      "<class 'pandas.core.frame.DataFrame'>\n",
      "Int64Index: 340 entries, 0 to 339\n",
      "Data columns (total 10 columns):\n",
      "Country       340 non-null object\n",
      "Type          340 non-null object\n",
      "Coverage      340 non-null object\n",
      "OdName        340 non-null object\n",
      "Year          340 non-null int64\n",
      "Migrants      340 non-null int64\n",
      "Flow          340 non-null object\n",
      "SHORT_NAME    301 non-null object\n",
      "LAT           301 non-null float64\n",
      "LONG          301 non-null float64\n",
      "dtypes: float64(2), int64(2), object(6)\n",
      "memory usage: 29.2+ KB\n"
     ]
    }
   ],
   "source": [
    "dfMerge1.info(verbose = True)"
   ]
  },
  {
   "cell_type": "markdown",
   "metadata": {},
   "source": [
    "Thus, there are still many countries where no match could have been found ..."
   ]
  },
  {
   "cell_type": "code",
   "execution_count": 46,
   "metadata": {
    "collapsed": false
   },
   "outputs": [
    {
     "data": {
      "text/plain": [
       "Russian Federation    39\n",
       "Name: Country, dtype: int64"
      ]
     },
     "execution_count": 46,
     "metadata": {},
     "output_type": "execute_result"
    }
   ],
   "source": [
    "dfMerge1[dfMerge1['SHORT_NAME'].isnull()]['Country'].value_counts()"
   ]
  },
  {
   "cell_type": "markdown",
   "metadata": {},
   "source": [
    "Ok, with that we can deal. We only have to replace russia there ..."
   ]
  },
  {
   "cell_type": "code",
   "execution_count": 47,
   "metadata": {
    "collapsed": false
   },
   "outputs": [
    {
     "data": {
      "text/html": [
       "<div>\n",
       "<table border=\"1\" class=\"dataframe\">\n",
       "  <thead>\n",
       "    <tr style=\"text-align: right;\">\n",
       "      <th></th>\n",
       "      <th>LAT</th>\n",
       "      <th>LONG</th>\n",
       "      <th>DMS_LAT</th>\n",
       "      <th>DMS_LONG</th>\n",
       "      <th>MGRS</th>\n",
       "      <th>JOG</th>\n",
       "      <th>DSG</th>\n",
       "      <th>AFFIL</th>\n",
       "      <th>FIPS10</th>\n",
       "      <th>SHORT_NAME</th>\n",
       "      <th>FULL_NAME</th>\n",
       "      <th>MOD_DATE</th>\n",
       "      <th>ISO3136</th>\n",
       "    </tr>\n",
       "  </thead>\n",
       "  <tbody>\n",
       "    <tr>\n",
       "      <th>188</th>\n",
       "      <td>60.0</td>\n",
       "      <td>100.0</td>\n",
       "      <td>600000</td>\n",
       "      <td>1000000</td>\n",
       "      <td>47VNG5577651833</td>\n",
       "      <td>NP47-14</td>\n",
       "      <td>PCLI</td>\n",
       "      <td>NaN</td>\n",
       "      <td>RS</td>\n",
       "      <td>Russia</td>\n",
       "      <td>Russian Federation</td>\n",
       "      <td>2007-02-28</td>\n",
       "      <td>RU</td>\n",
       "    </tr>\n",
       "  </tbody>\n",
       "</table>\n",
       "</div>"
      ],
      "text/plain": [
       "      LAT   LONG  DMS_LAT  DMS_LONG             MGRS      JOG   DSG AFFIL  \\\n",
       "188  60.0  100.0   600000   1000000  47VNG5577651833  NP47-14  PCLI   NaN   \n",
       "\n",
       "    FIPS10 SHORT_NAME           FULL_NAME    MOD_DATE ISO3136  \n",
       "188     RS     Russia  Russian Federation  2007-02-28      RU  "
      ]
     },
     "execution_count": 47,
     "metadata": {},
     "output_type": "execute_result"
    }
   ],
   "source": [
    "dfCentroids[dfCentroids['SHORT_NAME'].apply(lambda x: True if x.startswith('Ru') else False)]"
   ]
  },
  {
   "cell_type": "code",
   "execution_count": 48,
   "metadata": {
    "collapsed": false
   },
   "outputs": [],
   "source": [
    "#Set it via hardcopy\n",
    "dfMerge1.loc[dfMerge1['Country'] == 'Russian Federation', 'LAT'] = 60.0\n",
    "dfMerge1.loc[dfMerge1['Country'] == 'Russian Federation', 'LONG'] = 100.0"
   ]
  },
  {
   "cell_type": "code",
   "execution_count": 50,
   "metadata": {
    "collapsed": false
   },
   "outputs": [
    {
     "data": {
      "text/html": [
       "<div>\n",
       "<table border=\"1\" class=\"dataframe\">\n",
       "  <thead>\n",
       "    <tr style=\"text-align: right;\">\n",
       "      <th></th>\n",
       "      <th>Country</th>\n",
       "      <th>Type</th>\n",
       "      <th>Coverage</th>\n",
       "      <th>OdName</th>\n",
       "      <th>Year</th>\n",
       "      <th>Migrants</th>\n",
       "      <th>Flow</th>\n",
       "      <th>SHORT_NAME</th>\n",
       "      <th>LAT</th>\n",
       "      <th>LONG</th>\n",
       "    </tr>\n",
       "  </thead>\n",
       "  <tbody>\n",
       "  </tbody>\n",
       "</table>\n",
       "</div>"
      ],
      "text/plain": [
       "Empty DataFrame\n",
       "Columns: [Country, Type, Coverage, OdName, Year, Migrants, Flow, SHORT_NAME, LAT, LONG]\n",
       "Index: []"
      ]
     },
     "execution_count": 50,
     "metadata": {},
     "output_type": "execute_result"
    }
   ],
   "source": [
    "dfMerge1[dfMerge1['LAT'].isnull()]"
   ]
  },
  {
   "cell_type": "code",
   "execution_count": 51,
   "metadata": {
    "collapsed": false
   },
   "outputs": [],
   "source": [
    "#Delete the country column and rename the others\n",
    "dfMerge1.drop('SHORT_NAME', inplace = True, axis = 1)\n",
    "dfMerge1.rename(columns = {'LAT': 'dLat', 'LONG': 'dLong'}, inplace = True)"
   ]
  },
  {
   "cell_type": "code",
   "execution_count": 52,
   "metadata": {
    "collapsed": false
   },
   "outputs": [
    {
     "data": {
      "text/html": [
       "<div>\n",
       "<table border=\"1\" class=\"dataframe\">\n",
       "  <thead>\n",
       "    <tr style=\"text-align: right;\">\n",
       "      <th></th>\n",
       "      <th>Country</th>\n",
       "      <th>Type</th>\n",
       "      <th>Coverage</th>\n",
       "      <th>OdName</th>\n",
       "      <th>Year</th>\n",
       "      <th>Migrants</th>\n",
       "      <th>Flow</th>\n",
       "      <th>dLat</th>\n",
       "      <th>dLong</th>\n",
       "    </tr>\n",
       "  </thead>\n",
       "  <tbody>\n",
       "    <tr>\n",
       "      <th>0</th>\n",
       "      <td>Germany</td>\n",
       "      <td>Immigrants</td>\n",
       "      <td>Both</td>\n",
       "      <td>Turkey</td>\n",
       "      <td>1980</td>\n",
       "      <td>213126</td>\n",
       "      <td>Turkey - Germany</td>\n",
       "      <td>51.5</td>\n",
       "      <td>10.5</td>\n",
       "    </tr>\n",
       "  </tbody>\n",
       "</table>\n",
       "</div>"
      ],
      "text/plain": [
       "   Country        Type Coverage  OdName  Year  Migrants              Flow  \\\n",
       "0  Germany  Immigrants     Both  Turkey  1980    213126  Turkey - Germany   \n",
       "\n",
       "   dLat  dLong  \n",
       "0  51.5   10.5  "
      ]
     },
     "execution_count": 52,
     "metadata": {},
     "output_type": "execute_result"
    }
   ],
   "source": [
    "dfMerge1.head(1)"
   ]
  },
  {
   "cell_type": "code",
   "execution_count": 62,
   "metadata": {
    "collapsed": true
   },
   "outputs": [],
   "source": [
    "dfMerge2 = pd.merge(dfMerge1, dfCentroids[['SHORT_NAME', 'LAT', 'LONG']], how = 'left',\n",
    "                    left_on = 'OdName', right_on = 'SHORT_NAME')"
   ]
  },
  {
   "cell_type": "code",
   "execution_count": 63,
   "metadata": {
    "collapsed": false
   },
   "outputs": [
    {
     "data": {
      "text/html": [
       "<div>\n",
       "<table border=\"1\" class=\"dataframe\">\n",
       "  <thead>\n",
       "    <tr style=\"text-align: right;\">\n",
       "      <th></th>\n",
       "      <th>Country</th>\n",
       "      <th>Type</th>\n",
       "      <th>Coverage</th>\n",
       "      <th>OdName</th>\n",
       "      <th>Year</th>\n",
       "      <th>Migrants</th>\n",
       "      <th>Flow</th>\n",
       "      <th>dLat</th>\n",
       "      <th>dLong</th>\n",
       "      <th>SHORT_NAME</th>\n",
       "      <th>LAT</th>\n",
       "      <th>LONG</th>\n",
       "    </tr>\n",
       "  </thead>\n",
       "  <tbody>\n",
       "    <tr>\n",
       "      <th>0</th>\n",
       "      <td>Germany</td>\n",
       "      <td>Immigrants</td>\n",
       "      <td>Both</td>\n",
       "      <td>Turkey</td>\n",
       "      <td>1980</td>\n",
       "      <td>213126</td>\n",
       "      <td>Turkey - Germany</td>\n",
       "      <td>51.500000</td>\n",
       "      <td>10.5000</td>\n",
       "      <td>Turkey</td>\n",
       "      <td>39.059012</td>\n",
       "      <td>34.911546</td>\n",
       "    </tr>\n",
       "    <tr>\n",
       "      <th>1</th>\n",
       "      <td>Germany</td>\n",
       "      <td>Immigrants</td>\n",
       "      <td>Both</td>\n",
       "      <td>Italy</td>\n",
       "      <td>1980</td>\n",
       "      <td>88865</td>\n",
       "      <td>Italy - Germany</td>\n",
       "      <td>51.500000</td>\n",
       "      <td>10.5000</td>\n",
       "      <td>Italy</td>\n",
       "      <td>42.833333</td>\n",
       "      <td>12.833333</td>\n",
       "    </tr>\n",
       "    <tr>\n",
       "      <th>2</th>\n",
       "      <td>Germany</td>\n",
       "      <td>Immigrants</td>\n",
       "      <td>Both</td>\n",
       "      <td>Poland</td>\n",
       "      <td>1980</td>\n",
       "      <td>67940</td>\n",
       "      <td>Poland - Germany</td>\n",
       "      <td>51.500000</td>\n",
       "      <td>10.5000</td>\n",
       "      <td>Poland</td>\n",
       "      <td>52.000000</td>\n",
       "      <td>20.000000</td>\n",
       "    </tr>\n",
       "    <tr>\n",
       "      <th>3</th>\n",
       "      <td>United States</td>\n",
       "      <td>Immigrants</td>\n",
       "      <td>Foreigners</td>\n",
       "      <td>Mexico</td>\n",
       "      <td>1980</td>\n",
       "      <td>56680</td>\n",
       "      <td>Mexico - United States</td>\n",
       "      <td>39.828175</td>\n",
       "      <td>-98.5795</td>\n",
       "      <td>Mexico</td>\n",
       "      <td>23.000000</td>\n",
       "      <td>-102.000000</td>\n",
       "    </tr>\n",
       "    <tr>\n",
       "      <th>4</th>\n",
       "      <td>Australia</td>\n",
       "      <td>Immigrants</td>\n",
       "      <td>Both</td>\n",
       "      <td>United Kingdom</td>\n",
       "      <td>1980</td>\n",
       "      <td>43540</td>\n",
       "      <td>United Kingdom - Australia</td>\n",
       "      <td>-25.000000</td>\n",
       "      <td>135.0000</td>\n",
       "      <td>United Kingdom</td>\n",
       "      <td>54.000000</td>\n",
       "      <td>-4.000000</td>\n",
       "    </tr>\n",
       "  </tbody>\n",
       "</table>\n",
       "</div>"
      ],
      "text/plain": [
       "         Country        Type    Coverage          OdName  Year  Migrants  \\\n",
       "0        Germany  Immigrants        Both          Turkey  1980    213126   \n",
       "1        Germany  Immigrants        Both           Italy  1980     88865   \n",
       "2        Germany  Immigrants        Both          Poland  1980     67940   \n",
       "3  United States  Immigrants  Foreigners          Mexico  1980     56680   \n",
       "4      Australia  Immigrants        Both  United Kingdom  1980     43540   \n",
       "\n",
       "                         Flow       dLat     dLong      SHORT_NAME        LAT  \\\n",
       "0            Turkey - Germany  51.500000   10.5000          Turkey  39.059012   \n",
       "1             Italy - Germany  51.500000   10.5000           Italy  42.833333   \n",
       "2            Poland - Germany  51.500000   10.5000          Poland  52.000000   \n",
       "3      Mexico - United States  39.828175  -98.5795          Mexico  23.000000   \n",
       "4  United Kingdom - Australia -25.000000  135.0000  United Kingdom  54.000000   \n",
       "\n",
       "         LONG  \n",
       "0   34.911546  \n",
       "1   12.833333  \n",
       "2   20.000000  \n",
       "3 -102.000000  \n",
       "4   -4.000000  "
      ]
     },
     "execution_count": 63,
     "metadata": {},
     "output_type": "execute_result"
    }
   ],
   "source": [
    "dfMerge2.head()"
   ]
  },
  {
   "cell_type": "markdown",
   "metadata": {},
   "source": [
    "Let's again check if we could map all countries ..."
   ]
  },
  {
   "cell_type": "code",
   "execution_count": 65,
   "metadata": {
    "collapsed": false
   },
   "outputs": [
    {
     "data": {
      "text/plain": [
       "Korea, Rep.           10\n",
       "Russian Federation    10\n",
       "Kyrgyz Republic        2\n",
       "Lao PDR                1\n",
       "Name: OdName, dtype: int64"
      ]
     },
     "execution_count": 65,
     "metadata": {},
     "output_type": "execute_result"
    }
   ],
   "source": [
    "dfMerge2[dfMerge2['SHORT_NAME'].isnull()]['OdName'].value_counts()"
   ]
  },
  {
   "cell_type": "markdown",
   "metadata": {},
   "source": [
    "Let's again update manually ..."
   ]
  },
  {
   "cell_type": "code",
   "execution_count": 76,
   "metadata": {
    "collapsed": true
   },
   "outputs": [],
   "source": [
    "#Let's start with Russia where we can just do the same as before\n",
    "#Set it via hardcopy\n",
    "dfMerge2.loc[dfMerge2['OdName'] == 'Russian Federation', 'LAT'] = 60.0\n",
    "dfMerge2.loc[dfMerge2['OdName'] == 'Russian Federation', 'LONG'] = 100.0"
   ]
  },
  {
   "cell_type": "code",
   "execution_count": 77,
   "metadata": {
    "collapsed": false
   },
   "outputs": [
    {
     "data": {
      "text/plain": [
       "Kyrgyz Republic    2\n",
       "Lao PDR            1\n",
       "Name: OdName, dtype: int64"
      ]
     },
     "execution_count": 77,
     "metadata": {},
     "output_type": "execute_result"
    }
   ],
   "source": [
    "dfMerge2[dfMerge2['LAT'].isnull()]['OdName'].value_counts()"
   ]
  },
  {
   "cell_type": "markdown",
   "metadata": {},
   "source": [
    "Let's continue with Korea ..."
   ]
  },
  {
   "cell_type": "code",
   "execution_count": 78,
   "metadata": {
    "collapsed": false
   },
   "outputs": [
    {
     "data": {
      "text/html": [
       "<div>\n",
       "<table border=\"1\" class=\"dataframe\">\n",
       "  <thead>\n",
       "    <tr style=\"text-align: right;\">\n",
       "      <th></th>\n",
       "      <th>LAT</th>\n",
       "      <th>LONG</th>\n",
       "      <th>DMS_LAT</th>\n",
       "      <th>DMS_LONG</th>\n",
       "      <th>MGRS</th>\n",
       "      <th>JOG</th>\n",
       "      <th>DSG</th>\n",
       "      <th>AFFIL</th>\n",
       "      <th>FIPS10</th>\n",
       "      <th>SHORT_NAME</th>\n",
       "      <th>FULL_NAME</th>\n",
       "      <th>MOD_DATE</th>\n",
       "      <th>ISO3136</th>\n",
       "    </tr>\n",
       "  </thead>\n",
       "  <tbody>\n",
       "    <tr>\n",
       "      <th>212</th>\n",
       "      <td>37.0</td>\n",
       "      <td>127.5</td>\n",
       "      <td>370000</td>\n",
       "      <td>1273000</td>\n",
       "      <td>52SCF6653295924</td>\n",
       "      <td>NJ52-09</td>\n",
       "      <td>PCLI</td>\n",
       "      <td>NaN</td>\n",
       "      <td>KS</td>\n",
       "      <td>South Korea</td>\n",
       "      <td>Republic of Korea</td>\n",
       "      <td>2007-02-28</td>\n",
       "      <td>KR</td>\n",
       "    </tr>\n",
       "  </tbody>\n",
       "</table>\n",
       "</div>"
      ],
      "text/plain": [
       "      LAT   LONG  DMS_LAT  DMS_LONG             MGRS      JOG   DSG AFFIL  \\\n",
       "212  37.0  127.5   370000   1273000  52SCF6653295924  NJ52-09  PCLI   NaN   \n",
       "\n",
       "    FIPS10   SHORT_NAME          FULL_NAME    MOD_DATE ISO3136  \n",
       "212     KS  South Korea  Republic of Korea  2007-02-28      KR  "
      ]
     },
     "execution_count": 78,
     "metadata": {},
     "output_type": "execute_result"
    }
   ],
   "source": [
    "dfCentroids[dfCentroids['SHORT_NAME'].apply(lambda x: True if x.startswith('South K') else False)]"
   ]
  },
  {
   "cell_type": "code",
   "execution_count": 79,
   "metadata": {
    "collapsed": true
   },
   "outputs": [],
   "source": [
    "#Set it via hardcopy\n",
    "dfMerge2.loc[dfMerge2['OdName'] == 'Korea, Rep.', 'LAT'] = 37.0\n",
    "dfMerge2.loc[dfMerge2['OdName'] == 'Korea, Rep.', 'LONG'] = 127.5"
   ]
  },
  {
   "cell_type": "code",
   "execution_count": 81,
   "metadata": {
    "collapsed": false
   },
   "outputs": [
    {
     "data": {
      "text/plain": [
       "Kyrgyz Republic    2\n",
       "Lao PDR            1\n",
       "Name: OdName, dtype: int64"
      ]
     },
     "execution_count": 81,
     "metadata": {},
     "output_type": "execute_result"
    }
   ],
   "source": [
    "dfMerge2[dfMerge2['LAT'].isnull()]['OdName'].value_counts()"
   ]
  },
  {
   "cell_type": "markdown",
   "metadata": {},
   "source": [
    "Now Kyrgyztan (?)"
   ]
  },
  {
   "cell_type": "code",
   "execution_count": 83,
   "metadata": {
    "collapsed": false
   },
   "outputs": [
    {
     "data": {
      "text/html": [
       "<div>\n",
       "<table border=\"1\" class=\"dataframe\">\n",
       "  <thead>\n",
       "    <tr style=\"text-align: right;\">\n",
       "      <th></th>\n",
       "      <th>LAT</th>\n",
       "      <th>LONG</th>\n",
       "      <th>DMS_LAT</th>\n",
       "      <th>DMS_LONG</th>\n",
       "      <th>MGRS</th>\n",
       "      <th>JOG</th>\n",
       "      <th>DSG</th>\n",
       "      <th>AFFIL</th>\n",
       "      <th>FIPS10</th>\n",
       "      <th>SHORT_NAME</th>\n",
       "      <th>FULL_NAME</th>\n",
       "      <th>MOD_DATE</th>\n",
       "      <th>ISO3136</th>\n",
       "    </tr>\n",
       "  </thead>\n",
       "  <tbody>\n",
       "    <tr>\n",
       "      <th>127</th>\n",
       "      <td>41.0</td>\n",
       "      <td>75.0</td>\n",
       "      <td>410000</td>\n",
       "      <td>750000</td>\n",
       "      <td>43TEF0000038757</td>\n",
       "      <td>NK43-08</td>\n",
       "      <td>PCLI</td>\n",
       "      <td>NaN</td>\n",
       "      <td>KG</td>\n",
       "      <td>Kyrgyzstan</td>\n",
       "      <td>Kyrgyz Republic</td>\n",
       "      <td>2007-02-28</td>\n",
       "      <td>KG</td>\n",
       "    </tr>\n",
       "  </tbody>\n",
       "</table>\n",
       "</div>"
      ],
      "text/plain": [
       "      LAT  LONG  DMS_LAT  DMS_LONG             MGRS      JOG   DSG AFFIL  \\\n",
       "127  41.0  75.0   410000    750000  43TEF0000038757  NK43-08  PCLI   NaN   \n",
       "\n",
       "    FIPS10  SHORT_NAME        FULL_NAME    MOD_DATE ISO3136  \n",
       "127     KG  Kyrgyzstan  Kyrgyz Republic  2007-02-28      KG  "
      ]
     },
     "execution_count": 83,
     "metadata": {},
     "output_type": "execute_result"
    }
   ],
   "source": [
    "dfCentroids[dfCentroids['SHORT_NAME'].apply(lambda x: True if x.startswith('Kyr') else False)]"
   ]
  },
  {
   "cell_type": "code",
   "execution_count": 84,
   "metadata": {
    "collapsed": true
   },
   "outputs": [],
   "source": [
    "#Set it via hardcopy\n",
    "dfMerge2.loc[dfMerge2['OdName'] == 'Kyrgyz Republic', 'LAT'] = 41.0\n",
    "dfMerge2.loc[dfMerge2['OdName'] == 'Kyrgyz Republic', 'LONG'] = 75.0"
   ]
  },
  {
   "cell_type": "code",
   "execution_count": 85,
   "metadata": {
    "collapsed": false
   },
   "outputs": [
    {
     "data": {
      "text/plain": [
       "Lao PDR    1\n",
       "Name: OdName, dtype: int64"
      ]
     },
     "execution_count": 85,
     "metadata": {},
     "output_type": "execute_result"
    }
   ],
   "source": [
    "dfMerge2[dfMerge2['LAT'].isnull()]['OdName'].value_counts()"
   ]
  },
  {
   "cell_type": "markdown",
   "metadata": {},
   "source": [
    "And we finish with Laos ..."
   ]
  },
  {
   "cell_type": "code",
   "execution_count": 86,
   "metadata": {
    "collapsed": false
   },
   "outputs": [
    {
     "data": {
      "text/html": [
       "<div>\n",
       "<table border=\"1\" class=\"dataframe\">\n",
       "  <thead>\n",
       "    <tr style=\"text-align: right;\">\n",
       "      <th></th>\n",
       "      <th>LAT</th>\n",
       "      <th>LONG</th>\n",
       "      <th>DMS_LAT</th>\n",
       "      <th>DMS_LONG</th>\n",
       "      <th>MGRS</th>\n",
       "      <th>JOG</th>\n",
       "      <th>DSG</th>\n",
       "      <th>AFFIL</th>\n",
       "      <th>FIPS10</th>\n",
       "      <th>SHORT_NAME</th>\n",
       "      <th>FULL_NAME</th>\n",
       "      <th>MOD_DATE</th>\n",
       "      <th>ISO3136</th>\n",
       "    </tr>\n",
       "  </thead>\n",
       "  <tbody>\n",
       "    <tr>\n",
       "      <th>128</th>\n",
       "      <td>18.0</td>\n",
       "      <td>105.0</td>\n",
       "      <td>180000</td>\n",
       "      <td>1050000</td>\n",
       "      <td>48QWE0000090186</td>\n",
       "      <td>NE48-07</td>\n",
       "      <td>PCLI</td>\n",
       "      <td>NaN</td>\n",
       "      <td>LA</td>\n",
       "      <td>Laos</td>\n",
       "      <td>Lao People's Democratic Republic</td>\n",
       "      <td>2010-12-22</td>\n",
       "      <td>LA</td>\n",
       "    </tr>\n",
       "  </tbody>\n",
       "</table>\n",
       "</div>"
      ],
      "text/plain": [
       "      LAT   LONG  DMS_LAT  DMS_LONG             MGRS      JOG   DSG AFFIL  \\\n",
       "128  18.0  105.0   180000   1050000  48QWE0000090186  NE48-07  PCLI   NaN   \n",
       "\n",
       "    FIPS10 SHORT_NAME                         FULL_NAME    MOD_DATE ISO3136  \n",
       "128     LA       Laos  Lao People's Democratic Republic  2010-12-22      LA  "
      ]
     },
     "execution_count": 86,
     "metadata": {},
     "output_type": "execute_result"
    }
   ],
   "source": [
    "dfCentroids[dfCentroids['SHORT_NAME'].apply(lambda x: True if x.startswith('Lao') else False)]"
   ]
  },
  {
   "cell_type": "code",
   "execution_count": 87,
   "metadata": {
    "collapsed": true
   },
   "outputs": [],
   "source": [
    "#Set it via hardcopy\n",
    "dfMerge2.loc[dfMerge2['OdName'] == 'Lao PDR', 'LAT'] = 18.0\n",
    "dfMerge2.loc[dfMerge2['OdName'] == 'Lao PDR', 'LONG'] = 105.0"
   ]
  },
  {
   "cell_type": "code",
   "execution_count": 88,
   "metadata": {
    "collapsed": false
   },
   "outputs": [
    {
     "data": {
      "text/plain": [
       "Series([], Name: OdName, dtype: int64)"
      ]
     },
     "execution_count": 88,
     "metadata": {},
     "output_type": "execute_result"
    }
   ],
   "source": [
    "dfMerge2[dfMerge2['LAT'].isnull()]['OdName'].value_counts()"
   ]
  },
  {
   "cell_type": "markdown",
   "metadata": {},
   "source": [
    "Thus, everything is solved .."
   ]
  },
  {
   "cell_type": "code",
   "execution_count": 89,
   "metadata": {
    "collapsed": true
   },
   "outputs": [],
   "source": [
    "#Delete the country column and rename the others\n",
    "dfMerge2.drop('SHORT_NAME', inplace = True, axis = 1)\n",
    "dfMerge2.rename(columns = {'LAT': 'oLat', 'LONG': 'oLong'}, inplace = True)"
   ]
  },
  {
   "cell_type": "code",
   "execution_count": 90,
   "metadata": {
    "collapsed": false
   },
   "outputs": [
    {
     "data": {
      "text/html": [
       "<div>\n",
       "<table border=\"1\" class=\"dataframe\">\n",
       "  <thead>\n",
       "    <tr style=\"text-align: right;\">\n",
       "      <th></th>\n",
       "      <th>Country</th>\n",
       "      <th>Type</th>\n",
       "      <th>Coverage</th>\n",
       "      <th>OdName</th>\n",
       "      <th>Year</th>\n",
       "      <th>Migrants</th>\n",
       "      <th>Flow</th>\n",
       "      <th>dLat</th>\n",
       "      <th>dLong</th>\n",
       "      <th>oLat</th>\n",
       "      <th>oLong</th>\n",
       "    </tr>\n",
       "  </thead>\n",
       "  <tbody>\n",
       "    <tr>\n",
       "      <th>0</th>\n",
       "      <td>Germany</td>\n",
       "      <td>Immigrants</td>\n",
       "      <td>Both</td>\n",
       "      <td>Turkey</td>\n",
       "      <td>1980</td>\n",
       "      <td>213126</td>\n",
       "      <td>Turkey - Germany</td>\n",
       "      <td>51.500000</td>\n",
       "      <td>10.5000</td>\n",
       "      <td>39.059012</td>\n",
       "      <td>34.911546</td>\n",
       "    </tr>\n",
       "    <tr>\n",
       "      <th>1</th>\n",
       "      <td>Germany</td>\n",
       "      <td>Immigrants</td>\n",
       "      <td>Both</td>\n",
       "      <td>Italy</td>\n",
       "      <td>1980</td>\n",
       "      <td>88865</td>\n",
       "      <td>Italy - Germany</td>\n",
       "      <td>51.500000</td>\n",
       "      <td>10.5000</td>\n",
       "      <td>42.833333</td>\n",
       "      <td>12.833333</td>\n",
       "    </tr>\n",
       "    <tr>\n",
       "      <th>2</th>\n",
       "      <td>Germany</td>\n",
       "      <td>Immigrants</td>\n",
       "      <td>Both</td>\n",
       "      <td>Poland</td>\n",
       "      <td>1980</td>\n",
       "      <td>67940</td>\n",
       "      <td>Poland - Germany</td>\n",
       "      <td>51.500000</td>\n",
       "      <td>10.5000</td>\n",
       "      <td>52.000000</td>\n",
       "      <td>20.000000</td>\n",
       "    </tr>\n",
       "    <tr>\n",
       "      <th>3</th>\n",
       "      <td>United States</td>\n",
       "      <td>Immigrants</td>\n",
       "      <td>Foreigners</td>\n",
       "      <td>Mexico</td>\n",
       "      <td>1980</td>\n",
       "      <td>56680</td>\n",
       "      <td>Mexico - United States</td>\n",
       "      <td>39.828175</td>\n",
       "      <td>-98.5795</td>\n",
       "      <td>23.000000</td>\n",
       "      <td>-102.000000</td>\n",
       "    </tr>\n",
       "    <tr>\n",
       "      <th>4</th>\n",
       "      <td>Australia</td>\n",
       "      <td>Immigrants</td>\n",
       "      <td>Both</td>\n",
       "      <td>United Kingdom</td>\n",
       "      <td>1980</td>\n",
       "      <td>43540</td>\n",
       "      <td>United Kingdom - Australia</td>\n",
       "      <td>-25.000000</td>\n",
       "      <td>135.0000</td>\n",
       "      <td>54.000000</td>\n",
       "      <td>-4.000000</td>\n",
       "    </tr>\n",
       "  </tbody>\n",
       "</table>\n",
       "</div>"
      ],
      "text/plain": [
       "         Country        Type    Coverage          OdName  Year  Migrants  \\\n",
       "0        Germany  Immigrants        Both          Turkey  1980    213126   \n",
       "1        Germany  Immigrants        Both           Italy  1980     88865   \n",
       "2        Germany  Immigrants        Both          Poland  1980     67940   \n",
       "3  United States  Immigrants  Foreigners          Mexico  1980     56680   \n",
       "4      Australia  Immigrants        Both  United Kingdom  1980     43540   \n",
       "\n",
       "                         Flow       dLat     dLong       oLat       oLong  \n",
       "0            Turkey - Germany  51.500000   10.5000  39.059012   34.911546  \n",
       "1             Italy - Germany  51.500000   10.5000  42.833333   12.833333  \n",
       "2            Poland - Germany  51.500000   10.5000  52.000000   20.000000  \n",
       "3      Mexico - United States  39.828175  -98.5795  23.000000 -102.000000  \n",
       "4  United Kingdom - Australia -25.000000  135.0000  54.000000   -4.000000  "
      ]
     },
     "execution_count": 90,
     "metadata": {},
     "output_type": "execute_result"
    }
   ],
   "source": [
    "dfMerge2.head()"
   ]
  },
  {
   "cell_type": "markdown",
   "metadata": {},
   "source": [
    "No let's write it out and have more fun in D3.js ..."
   ]
  },
  {
   "cell_type": "code",
   "execution_count": 91,
   "metadata": {
    "collapsed": true
   },
   "outputs": [],
   "source": [
    "dfMerge2.to_csv('../10_Code/MigrationPerCountry_Top10_v02.csv', sep = ',', index = False)"
   ]
  },
  {
   "cell_type": "code",
   "execution_count": null,
   "metadata": {
    "collapsed": true
   },
   "outputs": [],
   "source": []
  }
 ],
 "metadata": {
  "kernelspec": {
   "display_name": "Python [Root]",
   "language": "python",
   "name": "Python [Root]"
  },
  "language_info": {
   "codemirror_mode": {
    "name": "ipython",
    "version": 2
   },
   "file_extension": ".py",
   "mimetype": "text/x-python",
   "name": "python",
   "nbconvert_exporter": "python",
   "pygments_lexer": "ipython2",
   "version": "2.7.12"
  }
 },
 "nbformat": 4,
 "nbformat_minor": 0
}
