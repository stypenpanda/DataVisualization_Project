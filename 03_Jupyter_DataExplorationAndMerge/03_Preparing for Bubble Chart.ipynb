{
 "cells": [
  {
   "cell_type": "code",
   "execution_count": 1,
   "metadata": {
    "collapsed": true
   },
   "outputs": [],
   "source": [
    "import pandas as pd\n",
    "from ggplot import *\n",
    "%matplotlib inline"
   ]
  },
  {
   "cell_type": "markdown",
   "metadata": {},
   "source": [
    "## Bring in other format (i.e. one row for each country and year incl information about immigration and emigration)"
   ]
  },
  {
   "cell_type": "code",
   "execution_count": 3,
   "metadata": {
    "collapsed": false
   },
   "outputs": [],
   "source": [
    "dfAggMigPerCountry = pd.read_csv(\"../02_FlatData/MigrationTotal.csv\", sep = ',')"
   ]
  },
  {
   "cell_type": "code",
   "execution_count": 4,
   "metadata": {
    "collapsed": false
   },
   "outputs": [
    {
     "data": {
      "text/html": [
       "<div>\n",
       "<table border=\"1\" class=\"dataframe\">\n",
       "  <thead>\n",
       "    <tr style=\"text-align: right;\">\n",
       "      <th></th>\n",
       "      <th>Country</th>\n",
       "      <th>Criteria</th>\n",
       "      <th>Type</th>\n",
       "      <th>Coverage</th>\n",
       "      <th>Year</th>\n",
       "      <th>Migrants</th>\n",
       "    </tr>\n",
       "  </thead>\n",
       "  <tbody>\n",
       "    <tr>\n",
       "      <th>0</th>\n",
       "      <td>Australia</td>\n",
       "      <td>Residence</td>\n",
       "      <td>Emigrants</td>\n",
       "      <td>Both</td>\n",
       "      <td>1980</td>\n",
       "      <td>90860</td>\n",
       "    </tr>\n",
       "    <tr>\n",
       "      <th>1</th>\n",
       "      <td>Australia</td>\n",
       "      <td>Residence</td>\n",
       "      <td>Immigrants</td>\n",
       "      <td>Both</td>\n",
       "      <td>1980</td>\n",
       "      <td>184290</td>\n",
       "    </tr>\n",
       "    <tr>\n",
       "      <th>2</th>\n",
       "      <td>Belgium</td>\n",
       "      <td>Residence</td>\n",
       "      <td>Immigrants</td>\n",
       "      <td>Both</td>\n",
       "      <td>1980</td>\n",
       "      <td>54694</td>\n",
       "    </tr>\n",
       "    <tr>\n",
       "      <th>3</th>\n",
       "      <td>Denmark</td>\n",
       "      <td>Residence</td>\n",
       "      <td>Emigrants</td>\n",
       "      <td>Both</td>\n",
       "      <td>1980</td>\n",
       "      <td>29913</td>\n",
       "    </tr>\n",
       "    <tr>\n",
       "      <th>4</th>\n",
       "      <td>Denmark</td>\n",
       "      <td>Residence</td>\n",
       "      <td>Immigrants</td>\n",
       "      <td>Both</td>\n",
       "      <td>1980</td>\n",
       "      <td>30311</td>\n",
       "    </tr>\n",
       "  </tbody>\n",
       "</table>\n",
       "</div>"
      ],
      "text/plain": [
       "     Country   Criteria        Type Coverage  Year  Migrants\n",
       "0  Australia  Residence   Emigrants     Both  1980     90860\n",
       "1  Australia  Residence  Immigrants     Both  1980    184290\n",
       "2    Belgium  Residence  Immigrants     Both  1980     54694\n",
       "3    Denmark  Residence   Emigrants     Both  1980     29913\n",
       "4    Denmark  Residence  Immigrants     Both  1980     30311"
      ]
     },
     "execution_count": 4,
     "metadata": {},
     "output_type": "execute_result"
    }
   ],
   "source": [
    "dfAggMigPerCountry.head()"
   ]
  },
  {
   "cell_type": "code",
   "execution_count": 8,
   "metadata": {
    "collapsed": true
   },
   "outputs": [],
   "source": [
    "lstCols = ['Country', 'Criteria', 'Coverage', 'Year', 'Migrants']\n",
    "df1 = pd.merge(dfAggMigPerCountry[dfAggMigPerCountry['Type']=='Emigrants'][lstCols],\n",
    "               dfAggMigPerCountry[dfAggMigPerCountry['Type']=='Immigrants'][lstCols],\n",
    "               on = ['Country', 'Criteria', 'Coverage', 'Year'], how = 'outer', suffixes = ['_out', '_in'])"
   ]
  },
  {
   "cell_type": "code",
   "execution_count": 9,
   "metadata": {
    "collapsed": false
   },
   "outputs": [
    {
     "data": {
      "text/html": [
       "<div>\n",
       "<table border=\"1\" class=\"dataframe\">\n",
       "  <thead>\n",
       "    <tr style=\"text-align: right;\">\n",
       "      <th></th>\n",
       "      <th>Country</th>\n",
       "      <th>Criteria</th>\n",
       "      <th>Coverage</th>\n",
       "      <th>Year</th>\n",
       "      <th>Migrants_out</th>\n",
       "      <th>Migrants_in</th>\n",
       "    </tr>\n",
       "  </thead>\n",
       "  <tbody>\n",
       "    <tr>\n",
       "      <th>0</th>\n",
       "      <td>Australia</td>\n",
       "      <td>Residence</td>\n",
       "      <td>Both</td>\n",
       "      <td>1980</td>\n",
       "      <td>90860.0</td>\n",
       "      <td>184290.0</td>\n",
       "    </tr>\n",
       "    <tr>\n",
       "      <th>1</th>\n",
       "      <td>Denmark</td>\n",
       "      <td>Residence</td>\n",
       "      <td>Both</td>\n",
       "      <td>1980</td>\n",
       "      <td>29913.0</td>\n",
       "      <td>30311.0</td>\n",
       "    </tr>\n",
       "    <tr>\n",
       "      <th>2</th>\n",
       "      <td>Finland</td>\n",
       "      <td>Residence</td>\n",
       "      <td>Both</td>\n",
       "      <td>1980</td>\n",
       "      <td>14824.0</td>\n",
       "      <td>13626.0</td>\n",
       "    </tr>\n",
       "    <tr>\n",
       "      <th>3</th>\n",
       "      <td>Germany</td>\n",
       "      <td>Residence</td>\n",
       "      <td>Both</td>\n",
       "      <td>1980</td>\n",
       "      <td>439571.0</td>\n",
       "      <td>753436.0</td>\n",
       "    </tr>\n",
       "    <tr>\n",
       "      <th>4</th>\n",
       "      <td>Norway</td>\n",
       "      <td>Residence</td>\n",
       "      <td>Both</td>\n",
       "      <td>1980</td>\n",
       "      <td>14705.0</td>\n",
       "      <td>18776.0</td>\n",
       "    </tr>\n",
       "  </tbody>\n",
       "</table>\n",
       "</div>"
      ],
      "text/plain": [
       "     Country   Criteria Coverage  Year  Migrants_out  Migrants_in\n",
       "0  Australia  Residence     Both  1980       90860.0     184290.0\n",
       "1    Denmark  Residence     Both  1980       29913.0      30311.0\n",
       "2    Finland  Residence     Both  1980       14824.0      13626.0\n",
       "3    Germany  Residence     Both  1980      439571.0     753436.0\n",
       "4     Norway  Residence     Both  1980       14705.0      18776.0"
      ]
     },
     "execution_count": 9,
     "metadata": {},
     "output_type": "execute_result"
    }
   ],
   "source": [
    "df1.head()"
   ]
  },
  {
   "cell_type": "code",
   "execution_count": 12,
   "metadata": {
    "collapsed": false
   },
   "outputs": [
    {
     "data": {
      "image/png": "[encoded data removed]",
      "text/plain": [
       "<matplotlib.figure.Figure at 0xcc5d8d0>"
      ]
     },
     "metadata": {},
     "output_type": "display_data"
    },
    {
     "data": {
      "text/plain": [
       "<ggplot: (13330559)>"
      ]
     },
     "execution_count": 12,
     "metadata": {},
     "output_type": "execute_result"
    }
   ],
   "source": [
    "#Let's have a look from how many countries we do have entries across all years ...\n",
    "ggplot(df1, aes(x = 'Year')) + geom_histogram() + ggtitle('# of Countries we do have information about')"
   ]
  },
  {
   "cell_type": "code",
   "execution_count": 13,
   "metadata": {
    "collapsed": false
   },
   "outputs": [
    {
     "data": {
      "text/plain": [
       "Netherlands           34\n",
       "New Zealand           34\n",
       "Norway                34\n",
       "Iceland               34\n",
       "Germany               34\n",
       "Spain                 34\n",
       "Denmark               34\n",
       "Finland               34\n",
       "United States         34\n",
       "Sweden                34\n",
       "Canada                34\n",
       "United Kingdom        34\n",
       "Luxembourg            33\n",
       "Italy                 33\n",
       "Belgium               29\n",
       "Australia             29\n",
       "Ireland               27\n",
       "Slovenia              24\n",
       "Romania               24\n",
       "Latvia                24\n",
       "Lithuania             22\n",
       "Estonia               22\n",
       "Portugal              22\n",
       "Slovak Republic       21\n",
       "Poland                20\n",
       "Czech Republic        20\n",
       "Russian Federation    20\n",
       "Kyrgyz Republic       19\n",
       "Greece                19\n",
       "Austria               18\n",
       "Cyprus                18\n",
       "Croatia               18\n",
       "Azerbaijan            15\n",
       "Malta                 14\n",
       "Switzerland           12\n",
       "Macedonia, FYR        11\n",
       "Armenia               10\n",
       "Kazakhstan            10\n",
       "Belarus               10\n",
       "France                 9\n",
       "Ukraine                7\n",
       "Liechtenstein          7\n",
       "Hungary                6\n",
       "Bulgaria               5\n",
       "Moldova                2\n",
       "Name: Country, dtype: int64"
      ]
     },
     "execution_count": 13,
     "metadata": {},
     "output_type": "execute_result"
    }
   ],
   "source": [
    "df1['Country'].value_counts()"
   ]
  },
  {
   "cell_type": "markdown",
   "metadata": {},
   "source": [
    "Thus it could be an issue to display the migration information for those countries from which we only sometimes do have the information ..."
   ]
  },
  {
   "cell_type": "markdown",
   "metadata": {},
   "source": [
    "## Add continents"
   ]
  },
  {
   "cell_type": "code",
   "execution_count": 14,
   "metadata": {
    "collapsed": true
   },
   "outputs": [],
   "source": [
    "dfC = pd.read_csv('../01_OrigData/CountriesAndContinents.csv', sep = ';')"
   ]
  },
  {
   "cell_type": "code",
   "execution_count": 15,
   "metadata": {
    "collapsed": false
   },
   "outputs": [
    {
     "data": {
      "text/html": [
       "<div>\n",
       "<table border=\"1\" class=\"dataframe\">\n",
       "  <thead>\n",
       "    <tr style=\"text-align: right;\">\n",
       "      <th></th>\n",
       "      <th>Country (en)</th>\n",
       "      <th>Country (de)</th>\n",
       "      <th>Country (local)</th>\n",
       "      <th>Country code</th>\n",
       "      <th>Continent</th>\n",
       "      <th>Capital</th>\n",
       "      <th>Population</th>\n",
       "      <th>Area</th>\n",
       "      <th>Coastline</th>\n",
       "      <th>Government form</th>\n",
       "      <th>Currency</th>\n",
       "      <th>Currency code</th>\n",
       "      <th>Dialing prefix</th>\n",
       "      <th>Birthrate</th>\n",
       "      <th>Deathrate</th>\n",
       "      <th>Life expectancy</th>\n",
       "      <th>Url</th>\n",
       "    </tr>\n",
       "  </thead>\n",
       "  <tbody>\n",
       "    <tr>\n",
       "      <th>0</th>\n",
       "      <td>Afghanistan</td>\n",
       "      <td>Afghanistan</td>\n",
       "      <td>Afganistan/Afqanestan</td>\n",
       "      <td>AF</td>\n",
       "      <td>Asia</td>\n",
       "      <td>NaN</td>\n",
       "      <td>33332025</td>\n",
       "      <td>652230</td>\n",
       "      <td>0</td>\n",
       "      <td>Presidential islamic republic</td>\n",
       "      <td>Afghani</td>\n",
       "      <td>AFN</td>\n",
       "      <td>93</td>\n",
       "      <td>38.3</td>\n",
       "      <td>13.7</td>\n",
       "      <td>51.3</td>\n",
       "      <td>https://www.laenderdaten.info/Asien/Afghanista...</td>\n",
       "    </tr>\n",
       "    <tr>\n",
       "      <th>1</th>\n",
       "      <td>Egypt</td>\n",
       "      <td>Ägypten</td>\n",
       "      <td>Misr</td>\n",
       "      <td>EG</td>\n",
       "      <td>Africa</td>\n",
       "      <td>NaN</td>\n",
       "      <td>94666993</td>\n",
       "      <td>1001450</td>\n",
       "      <td>2450</td>\n",
       "      <td>Presidential republic</td>\n",
       "      <td>Pfund</td>\n",
       "      <td>EGP</td>\n",
       "      <td>20</td>\n",
       "      <td>30.3</td>\n",
       "      <td>4.7</td>\n",
       "      <td>72.7</td>\n",
       "      <td>https://www.laenderdaten.info/Afrika/Aegypten/...</td>\n",
       "    </tr>\n",
       "    <tr>\n",
       "      <th>2</th>\n",
       "      <td>Åland Islands</td>\n",
       "      <td>Ålandinseln</td>\n",
       "      <td>Åland</td>\n",
       "      <td>AX</td>\n",
       "      <td>Europe</td>\n",
       "      <td>NaN</td>\n",
       "      <td>29013</td>\n",
       "      <td>1580</td>\n",
       "      <td>0</td>\n",
       "      <td>Autonomous region of Finland</td>\n",
       "      <td>Euro</td>\n",
       "      <td>EUR</td>\n",
       "      <td>358</td>\n",
       "      <td>0.0</td>\n",
       "      <td>0.0</td>\n",
       "      <td>0.0</td>\n",
       "      <td>https://www.laenderdaten.info/Europa/Aland/ind...</td>\n",
       "    </tr>\n",
       "    <tr>\n",
       "      <th>3</th>\n",
       "      <td>Albania</td>\n",
       "      <td>Albanien</td>\n",
       "      <td>Shqipëria</td>\n",
       "      <td>AL</td>\n",
       "      <td>Europe</td>\n",
       "      <td>NaN</td>\n",
       "      <td>3038594</td>\n",
       "      <td>28748</td>\n",
       "      <td>362</td>\n",
       "      <td>parliamentary republic</td>\n",
       "      <td>Lek</td>\n",
       "      <td>ALL</td>\n",
       "      <td>355</td>\n",
       "      <td>13.1</td>\n",
       "      <td>6.7</td>\n",
       "      <td>78.3</td>\n",
       "      <td>https://www.laenderdaten.info/Europa/Albanien/...</td>\n",
       "    </tr>\n",
       "    <tr>\n",
       "      <th>4</th>\n",
       "      <td>Algeria</td>\n",
       "      <td>Algerien</td>\n",
       "      <td>Al-Jaza’ir/Algérie</td>\n",
       "      <td>DZ</td>\n",
       "      <td>Africa</td>\n",
       "      <td>NaN</td>\n",
       "      <td>40263711</td>\n",
       "      <td>2381741</td>\n",
       "      <td>998</td>\n",
       "      <td>Presidential republic</td>\n",
       "      <td>Dinar</td>\n",
       "      <td>DZD</td>\n",
       "      <td>213</td>\n",
       "      <td>23.0</td>\n",
       "      <td>4.3</td>\n",
       "      <td>76.8</td>\n",
       "      <td>https://www.laenderdaten.info/Afrika/Algerien/...</td>\n",
       "    </tr>\n",
       "  </tbody>\n",
       "</table>\n",
       "</div>"
      ],
      "text/plain": [
       "    Country (en) Country (de)        Country (local) Country code Continent  \\\n",
       "0    Afghanistan  Afghanistan  Afganistan/Afqanestan           AF      Asia   \n",
       "1          Egypt      Ägypten                   Misr           EG    Africa   \n",
       "2  Åland Islands  Ålandinseln                  Åland           AX    Europe   \n",
       "3        Albania     Albanien              Shqipëria           AL    Europe   \n",
       "4        Algeria     Algerien     Al-Jaza’ir/Algérie           DZ    Africa   \n",
       "\n",
       "   Capital  Population     Area  Coastline                Government form  \\\n",
       "0      NaN    33332025   652230          0  Presidential islamic republic   \n",
       "1      NaN    94666993  1001450       2450          Presidential republic   \n",
       "2      NaN       29013     1580          0   Autonomous region of Finland   \n",
       "3      NaN     3038594    28748        362         parliamentary republic   \n",
       "4      NaN    40263711  2381741        998          Presidential republic   \n",
       "\n",
       "  Currency Currency code Dialing prefix  Birthrate  Deathrate  \\\n",
       "0  Afghani           AFN             93       38.3       13.7   \n",
       "1    Pfund           EGP             20       30.3        4.7   \n",
       "2     Euro           EUR            358        0.0        0.0   \n",
       "3      Lek           ALL            355       13.1        6.7   \n",
       "4    Dinar           DZD            213       23.0        4.3   \n",
       "\n",
       "   Life expectancy                                                Url  \n",
       "0             51.3  https://www.laenderdaten.info/Asien/Afghanista...  \n",
       "1             72.7  https://www.laenderdaten.info/Afrika/Aegypten/...  \n",
       "2              0.0  https://www.laenderdaten.info/Europa/Aland/ind...  \n",
       "3             78.3  https://www.laenderdaten.info/Europa/Albanien/...  \n",
       "4             76.8  https://www.laenderdaten.info/Afrika/Algerien/...  "
      ]
     },
     "execution_count": 15,
     "metadata": {},
     "output_type": "execute_result"
    }
   ],
   "source": [
    "dfC.head()"
   ]
  },
  {
   "cell_type": "code",
   "execution_count": 16,
   "metadata": {
    "collapsed": true
   },
   "outputs": [],
   "source": [
    "#Let's give it a first try to merge it ..."
   ]
  },
  {
   "cell_type": "code",
   "execution_count": 18,
   "metadata": {
    "collapsed": false
   },
   "outputs": [],
   "source": [
    "df2 = pd.merge(df1, dfC[['Country (en)', 'Continent']].rename(columns = {'Country (en)': 'Country'}), how = 'left')"
   ]
  },
  {
   "cell_type": "code",
   "execution_count": 19,
   "metadata": {
    "collapsed": false
   },
   "outputs": [
    {
     "data": {
      "text/html": [
       "<div>\n",
       "<table border=\"1\" class=\"dataframe\">\n",
       "  <thead>\n",
       "    <tr style=\"text-align: right;\">\n",
       "      <th></th>\n",
       "      <th>Country</th>\n",
       "      <th>Criteria</th>\n",
       "      <th>Coverage</th>\n",
       "      <th>Year</th>\n",
       "      <th>Migrants_out</th>\n",
       "      <th>Migrants_in</th>\n",
       "      <th>Continent</th>\n",
       "    </tr>\n",
       "  </thead>\n",
       "  <tbody>\n",
       "    <tr>\n",
       "      <th>0</th>\n",
       "      <td>Australia</td>\n",
       "      <td>Residence</td>\n",
       "      <td>Both</td>\n",
       "      <td>1980</td>\n",
       "      <td>90860.0</td>\n",
       "      <td>184290.0</td>\n",
       "      <td>Australia</td>\n",
       "    </tr>\n",
       "    <tr>\n",
       "      <th>1</th>\n",
       "      <td>Denmark</td>\n",
       "      <td>Residence</td>\n",
       "      <td>Both</td>\n",
       "      <td>1980</td>\n",
       "      <td>29913.0</td>\n",
       "      <td>30311.0</td>\n",
       "      <td>Europe</td>\n",
       "    </tr>\n",
       "    <tr>\n",
       "      <th>2</th>\n",
       "      <td>Finland</td>\n",
       "      <td>Residence</td>\n",
       "      <td>Both</td>\n",
       "      <td>1980</td>\n",
       "      <td>14824.0</td>\n",
       "      <td>13626.0</td>\n",
       "      <td>Europe</td>\n",
       "    </tr>\n",
       "    <tr>\n",
       "      <th>3</th>\n",
       "      <td>Germany</td>\n",
       "      <td>Residence</td>\n",
       "      <td>Both</td>\n",
       "      <td>1980</td>\n",
       "      <td>439571.0</td>\n",
       "      <td>753436.0</td>\n",
       "      <td>Europe</td>\n",
       "    </tr>\n",
       "    <tr>\n",
       "      <th>4</th>\n",
       "      <td>Norway</td>\n",
       "      <td>Residence</td>\n",
       "      <td>Both</td>\n",
       "      <td>1980</td>\n",
       "      <td>14705.0</td>\n",
       "      <td>18776.0</td>\n",
       "      <td>Europe</td>\n",
       "    </tr>\n",
       "  </tbody>\n",
       "</table>\n",
       "</div>"
      ],
      "text/plain": [
       "     Country   Criteria Coverage  Year  Migrants_out  Migrants_in  Continent\n",
       "0  Australia  Residence     Both  1980       90860.0     184290.0  Australia\n",
       "1    Denmark  Residence     Both  1980       29913.0      30311.0     Europe\n",
       "2    Finland  Residence     Both  1980       14824.0      13626.0     Europe\n",
       "3    Germany  Residence     Both  1980      439571.0     753436.0     Europe\n",
       "4     Norway  Residence     Both  1980       14705.0      18776.0     Europe"
      ]
     },
     "execution_count": 19,
     "metadata": {},
     "output_type": "execute_result"
    }
   ],
   "source": [
    "df2.head()"
   ]
  },
  {
   "cell_type": "code",
   "execution_count": 20,
   "metadata": {
    "collapsed": false
   },
   "outputs": [
    {
     "data": {
      "text/plain": [
       "array(['Kyrgyz Republic', 'Russian Federation', 'Slovak Republic',\n",
       "       'Macedonia, FYR'], dtype=object)"
      ]
     },
     "execution_count": 20,
     "metadata": {},
     "output_type": "execute_result"
    }
   ],
   "source": [
    "df2[df2['Continent'].isnull()]['Country'].unique()"
   ]
  },
  {
   "cell_type": "code",
   "execution_count": 23,
   "metadata": {
    "collapsed": false
   },
   "outputs": [
    {
     "data": {
      "text/html": [
       "<div>\n",
       "<table border=\"1\" class=\"dataframe\">\n",
       "  <thead>\n",
       "    <tr style=\"text-align: right;\">\n",
       "      <th></th>\n",
       "      <th>Country (en)</th>\n",
       "      <th>Country (de)</th>\n",
       "      <th>Country (local)</th>\n",
       "      <th>Country code</th>\n",
       "      <th>Continent</th>\n",
       "      <th>Capital</th>\n",
       "      <th>Population</th>\n",
       "      <th>Area</th>\n",
       "      <th>Coastline</th>\n",
       "      <th>Government form</th>\n",
       "      <th>Currency</th>\n",
       "      <th>Currency code</th>\n",
       "      <th>Dialing prefix</th>\n",
       "      <th>Birthrate</th>\n",
       "      <th>Deathrate</th>\n",
       "      <th>Life expectancy</th>\n",
       "      <th>Url</th>\n",
       "    </tr>\n",
       "  </thead>\n",
       "  <tbody>\n",
       "    <tr>\n",
       "      <th>105</th>\n",
       "      <td>Kyrgyzstan</td>\n",
       "      <td>Kirgisistan</td>\n",
       "      <td>Kyrgyzstan</td>\n",
       "      <td>KG</td>\n",
       "      <td>Asia</td>\n",
       "      <td>NaN</td>\n",
       "      <td>5727553</td>\n",
       "      <td>199951</td>\n",
       "      <td>0</td>\n",
       "      <td>parliamentary republic</td>\n",
       "      <td>Som</td>\n",
       "      <td>KGS</td>\n",
       "      <td>996</td>\n",
       "      <td>22.6</td>\n",
       "      <td>6.6</td>\n",
       "      <td>70.7</td>\n",
       "      <td>https://www.laenderdaten.info/Asien/Kirgisista...</td>\n",
       "    </tr>\n",
       "    <tr>\n",
       "      <th>137</th>\n",
       "      <td>Macedonia</td>\n",
       "      <td>Mazedonien</td>\n",
       "      <td>Makedonija</td>\n",
       "      <td>MK</td>\n",
       "      <td>Europe</td>\n",
       "      <td>NaN</td>\n",
       "      <td>2100025</td>\n",
       "      <td>25713</td>\n",
       "      <td>0</td>\n",
       "      <td>parliamentary republic</td>\n",
       "      <td>Denar</td>\n",
       "      <td>MKD</td>\n",
       "      <td>389</td>\n",
       "      <td>11.5</td>\n",
       "      <td>9.1</td>\n",
       "      <td>76.2</td>\n",
       "      <td>https://www.laenderdaten.info/Europa/Mazedonie...</td>\n",
       "    </tr>\n",
       "    <tr>\n",
       "      <th>180</th>\n",
       "      <td>Russia</td>\n",
       "      <td>Russland</td>\n",
       "      <td>Rossija</td>\n",
       "      <td>RU</td>\n",
       "      <td>Europe</td>\n",
       "      <td>NaN</td>\n",
       "      <td>142355415</td>\n",
       "      <td>17098242</td>\n",
       "      <td>37653</td>\n",
       "      <td>Federal republic</td>\n",
       "      <td>Rubel</td>\n",
       "      <td>RUB</td>\n",
       "      <td>7</td>\n",
       "      <td>11.3</td>\n",
       "      <td>13.6</td>\n",
       "      <td>70.8</td>\n",
       "      <td>https://www.laenderdaten.info/Europa/Russland/...</td>\n",
       "    </tr>\n",
       "    <tr>\n",
       "      <th>197</th>\n",
       "      <td>Slovakia</td>\n",
       "      <td>Slowakei</td>\n",
       "      <td>Slovensko</td>\n",
       "      <td>SK</td>\n",
       "      <td>Europe</td>\n",
       "      <td>NaN</td>\n",
       "      <td>5445802</td>\n",
       "      <td>49035</td>\n",
       "      <td>0</td>\n",
       "      <td>parliamentary republic</td>\n",
       "      <td>Euro</td>\n",
       "      <td>EUR</td>\n",
       "      <td>42</td>\n",
       "      <td>9.8</td>\n",
       "      <td>9.8</td>\n",
       "      <td>77.1</td>\n",
       "      <td>https://www.laenderdaten.info/Europa/Slowakei/...</td>\n",
       "    </tr>\n",
       "  </tbody>\n",
       "</table>\n",
       "</div>"
      ],
      "text/plain": [
       "    Country (en) Country (de) Country (local) Country code Continent  Capital  \\\n",
       "105   Kyrgyzstan  Kirgisistan      Kyrgyzstan           KG      Asia      NaN   \n",
       "137    Macedonia   Mazedonien      Makedonija           MK    Europe      NaN   \n",
       "180       Russia     Russland         Rossija           RU    Europe      NaN   \n",
       "197     Slovakia     Slowakei       Slovensko           SK    Europe      NaN   \n",
       "\n",
       "     Population      Area  Coastline         Government form Currency  \\\n",
       "105     5727553    199951          0  parliamentary republic      Som   \n",
       "137     2100025     25713          0  parliamentary republic    Denar   \n",
       "180   142355415  17098242      37653        Federal republic    Rubel   \n",
       "197     5445802     49035          0  parliamentary republic     Euro   \n",
       "\n",
       "    Currency code Dialing prefix  Birthrate  Deathrate  Life expectancy  \\\n",
       "105           KGS            996       22.6        6.6             70.7   \n",
       "137           MKD            389       11.5        9.1             76.2   \n",
       "180           RUB              7       11.3       13.6             70.8   \n",
       "197           EUR             42        9.8        9.8             77.1   \n",
       "\n",
       "                                                   Url  \n",
       "105  https://www.laenderdaten.info/Asien/Kirgisista...  \n",
       "137  https://www.laenderdaten.info/Europa/Mazedonie...  \n",
       "180  https://www.laenderdaten.info/Europa/Russland/...  \n",
       "197  https://www.laenderdaten.info/Europa/Slowakei/...  "
      ]
     },
     "execution_count": 23,
     "metadata": {},
     "output_type": "execute_result"
    }
   ],
   "source": [
    "dfC[dfC['Country (en)'].apply(lambda x: True if ((x.startswith('Ky')) or \n",
    "                                                 (x.startswith('Ru')) or\n",
    "                                                 (x.startswith('Slova')) or\n",
    "                                                 (x.startswith('Mace'))) else False)]"
   ]
  },
  {
   "cell_type": "markdown",
   "metadata": {},
   "source": [
    "Let's allocate these now kind of manually via first allocating 'Asia' to Kyrgyzstan and then fill the remaining with 'Europe'"
   ]
  },
  {
   "cell_type": "code",
   "execution_count": 24,
   "metadata": {
    "collapsed": true
   },
   "outputs": [],
   "source": [
    "df2.loc[df2['Country'] == 'Kyrgyz Republic', 'Continent'] = 'Asia'"
   ]
  },
  {
   "cell_type": "code",
   "execution_count": 25,
   "metadata": {
    "collapsed": false
   },
   "outputs": [
    {
     "data": {
      "text/html": [
       "<div>\n",
       "<table border=\"1\" class=\"dataframe\">\n",
       "  <thead>\n",
       "    <tr style=\"text-align: right;\">\n",
       "      <th></th>\n",
       "      <th>Country</th>\n",
       "      <th>Criteria</th>\n",
       "      <th>Coverage</th>\n",
       "      <th>Year</th>\n",
       "      <th>Migrants_out</th>\n",
       "      <th>Migrants_in</th>\n",
       "      <th>Continent</th>\n",
       "    </tr>\n",
       "  </thead>\n",
       "  <tbody>\n",
       "    <tr>\n",
       "      <th>78</th>\n",
       "      <td>Kyrgyz Republic</td>\n",
       "      <td>Residence</td>\n",
       "      <td>Both</td>\n",
       "      <td>1990</td>\n",
       "      <td>82852.0</td>\n",
       "      <td>40939.0</td>\n",
       "      <td>Asia</td>\n",
       "    </tr>\n",
       "    <tr>\n",
       "      <th>89</th>\n",
       "      <td>Kyrgyz Republic</td>\n",
       "      <td>Residence</td>\n",
       "      <td>Both</td>\n",
       "      <td>1991</td>\n",
       "      <td>71315.0</td>\n",
       "      <td>37558.0</td>\n",
       "      <td>Asia</td>\n",
       "    </tr>\n",
       "    <tr>\n",
       "      <th>102</th>\n",
       "      <td>Kyrgyz Republic</td>\n",
       "      <td>Residence</td>\n",
       "      <td>Both</td>\n",
       "      <td>1992</td>\n",
       "      <td>103728.0</td>\n",
       "      <td>26275.0</td>\n",
       "      <td>Asia</td>\n",
       "    </tr>\n",
       "    <tr>\n",
       "      <th>116</th>\n",
       "      <td>Kyrgyz Republic</td>\n",
       "      <td>Residence</td>\n",
       "      <td>Both</td>\n",
       "      <td>1993</td>\n",
       "      <td>143619.0</td>\n",
       "      <td>23015.0</td>\n",
       "      <td>Asia</td>\n",
       "    </tr>\n",
       "    <tr>\n",
       "      <th>131</th>\n",
       "      <td>Kyrgyz Republic</td>\n",
       "      <td>Residence</td>\n",
       "      <td>Both</td>\n",
       "      <td>1994</td>\n",
       "      <td>71197.0</td>\n",
       "      <td>20104.0</td>\n",
       "      <td>Asia</td>\n",
       "    </tr>\n",
       "    <tr>\n",
       "      <th>147</th>\n",
       "      <td>Kyrgyz Republic</td>\n",
       "      <td>Residence</td>\n",
       "      <td>Both</td>\n",
       "      <td>1995</td>\n",
       "      <td>37302.0</td>\n",
       "      <td>18368.0</td>\n",
       "      <td>Asia</td>\n",
       "    </tr>\n",
       "    <tr>\n",
       "      <th>164</th>\n",
       "      <td>Kyrgyz Republic</td>\n",
       "      <td>Residence</td>\n",
       "      <td>Both</td>\n",
       "      <td>1996</td>\n",
       "      <td>27584.0</td>\n",
       "      <td>15910.0</td>\n",
       "      <td>Asia</td>\n",
       "    </tr>\n",
       "    <tr>\n",
       "      <th>181</th>\n",
       "      <td>Kyrgyz Republic</td>\n",
       "      <td>Residence</td>\n",
       "      <td>Both</td>\n",
       "      <td>1997</td>\n",
       "      <td>19538.0</td>\n",
       "      <td>12799.0</td>\n",
       "      <td>Asia</td>\n",
       "    </tr>\n",
       "    <tr>\n",
       "      <th>200</th>\n",
       "      <td>Kyrgyz Republic</td>\n",
       "      <td>Residence</td>\n",
       "      <td>Both</td>\n",
       "      <td>1998</td>\n",
       "      <td>15671.0</td>\n",
       "      <td>10219.0</td>\n",
       "      <td>Asia</td>\n",
       "    </tr>\n",
       "    <tr>\n",
       "      <th>228</th>\n",
       "      <td>Kyrgyz Republic</td>\n",
       "      <td>Residence</td>\n",
       "      <td>Both</td>\n",
       "      <td>1999</td>\n",
       "      <td>17818.0</td>\n",
       "      <td>7879.0</td>\n",
       "      <td>Asia</td>\n",
       "    </tr>\n",
       "    <tr>\n",
       "      <th>260</th>\n",
       "      <td>Kyrgyz Republic</td>\n",
       "      <td>Residence</td>\n",
       "      <td>Both</td>\n",
       "      <td>2000</td>\n",
       "      <td>27887.0</td>\n",
       "      <td>5349.0</td>\n",
       "      <td>Asia</td>\n",
       "    </tr>\n",
       "    <tr>\n",
       "      <th>290</th>\n",
       "      <td>Kyrgyz Republic</td>\n",
       "      <td>Residence</td>\n",
       "      <td>Both</td>\n",
       "      <td>2001</td>\n",
       "      <td>31633.0</td>\n",
       "      <td>5048.0</td>\n",
       "      <td>Asia</td>\n",
       "    </tr>\n",
       "    <tr>\n",
       "      <th>320</th>\n",
       "      <td>Kyrgyz Republic</td>\n",
       "      <td>Residence</td>\n",
       "      <td>Both</td>\n",
       "      <td>2002</td>\n",
       "      <td>32717.0</td>\n",
       "      <td>4893.0</td>\n",
       "      <td>Asia</td>\n",
       "    </tr>\n",
       "    <tr>\n",
       "      <th>353</th>\n",
       "      <td>Kyrgyz Republic</td>\n",
       "      <td>Residence</td>\n",
       "      <td>Both</td>\n",
       "      <td>2003</td>\n",
       "      <td>21209.0</td>\n",
       "      <td>4483.0</td>\n",
       "      <td>Asia</td>\n",
       "    </tr>\n",
       "    <tr>\n",
       "      <th>386</th>\n",
       "      <td>Kyrgyz Republic</td>\n",
       "      <td>Residence</td>\n",
       "      <td>Both</td>\n",
       "      <td>2004</td>\n",
       "      <td>22607.0</td>\n",
       "      <td>3284.0</td>\n",
       "      <td>Asia</td>\n",
       "    </tr>\n",
       "    <tr>\n",
       "      <th>420</th>\n",
       "      <td>Kyrgyz Republic</td>\n",
       "      <td>Residence</td>\n",
       "      <td>Both</td>\n",
       "      <td>2005</td>\n",
       "      <td>30741.0</td>\n",
       "      <td>3761.0</td>\n",
       "      <td>Asia</td>\n",
       "    </tr>\n",
       "    <tr>\n",
       "      <th>456</th>\n",
       "      <td>Kyrgyz Republic</td>\n",
       "      <td>Residence</td>\n",
       "      <td>Both</td>\n",
       "      <td>2006</td>\n",
       "      <td>34423.0</td>\n",
       "      <td>3420.0</td>\n",
       "      <td>Asia</td>\n",
       "    </tr>\n",
       "    <tr>\n",
       "      <th>495</th>\n",
       "      <td>Kyrgyz Republic</td>\n",
       "      <td>Residence</td>\n",
       "      <td>Both</td>\n",
       "      <td>2007</td>\n",
       "      <td>54608.0</td>\n",
       "      <td>3955.0</td>\n",
       "      <td>Asia</td>\n",
       "    </tr>\n",
       "    <tr>\n",
       "      <th>535</th>\n",
       "      <td>Kyrgyz Republic</td>\n",
       "      <td>Residence</td>\n",
       "      <td>Both</td>\n",
       "      <td>2008</td>\n",
       "      <td>41287.0</td>\n",
       "      <td>3497.0</td>\n",
       "      <td>Asia</td>\n",
       "    </tr>\n",
       "  </tbody>\n",
       "</table>\n",
       "</div>"
      ],
      "text/plain": [
       "             Country   Criteria Coverage  Year  Migrants_out  Migrants_in  \\\n",
       "78   Kyrgyz Republic  Residence     Both  1990       82852.0      40939.0   \n",
       "89   Kyrgyz Republic  Residence     Both  1991       71315.0      37558.0   \n",
       "102  Kyrgyz Republic  Residence     Both  1992      103728.0      26275.0   \n",
       "116  Kyrgyz Republic  Residence     Both  1993      143619.0      23015.0   \n",
       "131  Kyrgyz Republic  Residence     Both  1994       71197.0      20104.0   \n",
       "147  Kyrgyz Republic  Residence     Both  1995       37302.0      18368.0   \n",
       "164  Kyrgyz Republic  Residence     Both  1996       27584.0      15910.0   \n",
       "181  Kyrgyz Republic  Residence     Both  1997       19538.0      12799.0   \n",
       "200  Kyrgyz Republic  Residence     Both  1998       15671.0      10219.0   \n",
       "228  Kyrgyz Republic  Residence     Both  1999       17818.0       7879.0   \n",
       "260  Kyrgyz Republic  Residence     Both  2000       27887.0       5349.0   \n",
       "290  Kyrgyz Republic  Residence     Both  2001       31633.0       5048.0   \n",
       "320  Kyrgyz Republic  Residence     Both  2002       32717.0       4893.0   \n",
       "353  Kyrgyz Republic  Residence     Both  2003       21209.0       4483.0   \n",
       "386  Kyrgyz Republic  Residence     Both  2004       22607.0       3284.0   \n",
       "420  Kyrgyz Republic  Residence     Both  2005       30741.0       3761.0   \n",
       "456  Kyrgyz Republic  Residence     Both  2006       34423.0       3420.0   \n",
       "495  Kyrgyz Republic  Residence     Both  2007       54608.0       3955.0   \n",
       "535  Kyrgyz Republic  Residence     Both  2008       41287.0       3497.0   \n",
       "\n",
       "    Continent  \n",
       "78       Asia  \n",
       "89       Asia  \n",
       "102      Asia  \n",
       "116      Asia  \n",
       "131      Asia  \n",
       "147      Asia  \n",
       "164      Asia  \n",
       "181      Asia  \n",
       "200      Asia  \n",
       "228      Asia  \n",
       "260      Asia  \n",
       "290      Asia  \n",
       "320      Asia  \n",
       "353      Asia  \n",
       "386      Asia  \n",
       "420      Asia  \n",
       "456      Asia  \n",
       "495      Asia  \n",
       "535      Asia  "
      ]
     },
     "execution_count": 25,
     "metadata": {},
     "output_type": "execute_result"
    }
   ],
   "source": [
    "df2[df2['Country'] == 'Kyrgyz Republic']"
   ]
  },
  {
   "cell_type": "code",
   "execution_count": 26,
   "metadata": {
    "collapsed": false
   },
   "outputs": [
    {
     "data": {
      "text/plain": [
       "array(['Russian Federation', 'Slovak Republic', 'Macedonia, FYR'], dtype=object)"
      ]
     },
     "execution_count": 26,
     "metadata": {},
     "output_type": "execute_result"
    }
   ],
   "source": [
    "df2[df2['Continent'].isnull()]['Country'].unique()"
   ]
  },
  {
   "cell_type": "code",
   "execution_count": 27,
   "metadata": {
    "collapsed": true
   },
   "outputs": [],
   "source": [
    "df2['Continent'].fillna('Europe', inplace = True)"
   ]
  },
  {
   "cell_type": "code",
   "execution_count": 28,
   "metadata": {
    "collapsed": false
   },
   "outputs": [
    {
     "data": {
      "text/plain": [
       "array([], dtype=object)"
      ]
     },
     "execution_count": 28,
     "metadata": {},
     "output_type": "execute_result"
    }
   ],
   "source": [
    "df2[df2['Continent'].isnull()]['Country'].unique()"
   ]
  },
  {
   "cell_type": "code",
   "execution_count": 29,
   "metadata": {
    "collapsed": false
   },
   "outputs": [
    {
     "data": {
      "text/plain": [
       "Europe           785\n",
       "Asia              72\n",
       "North America     68\n",
       "Australia         63\n",
       "Name: Continent, dtype: int64"
      ]
     },
     "execution_count": 29,
     "metadata": {},
     "output_type": "execute_result"
    }
   ],
   "source": [
    "df2['Continent'].value_counts()"
   ]
  },
  {
   "cell_type": "markdown",
   "metadata": {},
   "source": [
    "This means that we only have information about countries from these four continents and we do not have anything about Latin American countries nor African ..."
   ]
  },
  {
   "cell_type": "markdown",
   "metadata": {},
   "source": [
    "## Add population"
   ]
  },
  {
   "cell_type": "code",
   "execution_count": 31,
   "metadata": {
    "collapsed": true
   },
   "outputs": [],
   "source": [
    "dfPop = pd.read_csv('../02_FlatData/PopulationByCountry.csv', sep = ',')"
   ]
  },
  {
   "cell_type": "code",
   "execution_count": 32,
   "metadata": {
    "collapsed": false
   },
   "outputs": [
    {
     "data": {
      "text/html": [
       "<div>\n",
       "<table border=\"1\" class=\"dataframe\">\n",
       "  <thead>\n",
       "    <tr style=\"text-align: right;\">\n",
       "      <th></th>\n",
       "      <th>Country</th>\n",
       "      <th>CountryCode</th>\n",
       "      <th>Year</th>\n",
       "      <th>Population</th>\n",
       "    </tr>\n",
       "  </thead>\n",
       "  <tbody>\n",
       "    <tr>\n",
       "      <th>0</th>\n",
       "      <td>Aruba</td>\n",
       "      <td>ABW</td>\n",
       "      <td>1960</td>\n",
       "      <td>54208.0</td>\n",
       "    </tr>\n",
       "    <tr>\n",
       "      <th>1</th>\n",
       "      <td>Andorra</td>\n",
       "      <td>AND</td>\n",
       "      <td>1960</td>\n",
       "      <td>13414.0</td>\n",
       "    </tr>\n",
       "    <tr>\n",
       "      <th>2</th>\n",
       "      <td>Afghanistan</td>\n",
       "      <td>AFG</td>\n",
       "      <td>1960</td>\n",
       "      <td>8994793.0</td>\n",
       "    </tr>\n",
       "    <tr>\n",
       "      <th>3</th>\n",
       "      <td>Angola</td>\n",
       "      <td>AGO</td>\n",
       "      <td>1960</td>\n",
       "      <td>5270844.0</td>\n",
       "    </tr>\n",
       "    <tr>\n",
       "      <th>4</th>\n",
       "      <td>Albania</td>\n",
       "      <td>ALB</td>\n",
       "      <td>1960</td>\n",
       "      <td>1608800.0</td>\n",
       "    </tr>\n",
       "  </tbody>\n",
       "</table>\n",
       "</div>"
      ],
      "text/plain": [
       "       Country CountryCode  Year  Population\n",
       "0        Aruba         ABW  1960     54208.0\n",
       "1      Andorra         AND  1960     13414.0\n",
       "2  Afghanistan         AFG  1960   8994793.0\n",
       "3       Angola         AGO  1960   5270844.0\n",
       "4      Albania         ALB  1960   1608800.0"
      ]
     },
     "execution_count": 32,
     "metadata": {},
     "output_type": "execute_result"
    }
   ],
   "source": [
    "dfPop.head()"
   ]
  },
  {
   "cell_type": "code",
   "execution_count": 33,
   "metadata": {
    "collapsed": true
   },
   "outputs": [],
   "source": [
    "df3 = pd.merge(df2, dfPop[['Country', 'Year', 'Population']], how = 'left')"
   ]
  },
  {
   "cell_type": "code",
   "execution_count": 34,
   "metadata": {
    "collapsed": false
   },
   "outputs": [
    {
     "data": {
      "text/html": [
       "<div>\n",
       "<table border=\"1\" class=\"dataframe\">\n",
       "  <thead>\n",
       "    <tr style=\"text-align: right;\">\n",
       "      <th></th>\n",
       "      <th>Country</th>\n",
       "      <th>Criteria</th>\n",
       "      <th>Coverage</th>\n",
       "      <th>Year</th>\n",
       "      <th>Migrants_out</th>\n",
       "      <th>Migrants_in</th>\n",
       "      <th>Continent</th>\n",
       "      <th>Population</th>\n",
       "    </tr>\n",
       "  </thead>\n",
       "  <tbody>\n",
       "    <tr>\n",
       "      <th>0</th>\n",
       "      <td>Australia</td>\n",
       "      <td>Residence</td>\n",
       "      <td>Both</td>\n",
       "      <td>1980</td>\n",
       "      <td>90860.0</td>\n",
       "      <td>184290.0</td>\n",
       "      <td>Australia</td>\n",
       "      <td>14692000.0</td>\n",
       "    </tr>\n",
       "    <tr>\n",
       "      <th>1</th>\n",
       "      <td>Denmark</td>\n",
       "      <td>Residence</td>\n",
       "      <td>Both</td>\n",
       "      <td>1980</td>\n",
       "      <td>29913.0</td>\n",
       "      <td>30311.0</td>\n",
       "      <td>Europe</td>\n",
       "      <td>5123027.0</td>\n",
       "    </tr>\n",
       "    <tr>\n",
       "      <th>2</th>\n",
       "      <td>Finland</td>\n",
       "      <td>Residence</td>\n",
       "      <td>Both</td>\n",
       "      <td>1980</td>\n",
       "      <td>14824.0</td>\n",
       "      <td>13626.0</td>\n",
       "      <td>Europe</td>\n",
       "      <td>4779535.0</td>\n",
       "    </tr>\n",
       "    <tr>\n",
       "      <th>3</th>\n",
       "      <td>Germany</td>\n",
       "      <td>Residence</td>\n",
       "      <td>Both</td>\n",
       "      <td>1980</td>\n",
       "      <td>439571.0</td>\n",
       "      <td>753436.0</td>\n",
       "      <td>Europe</td>\n",
       "      <td>78288576.0</td>\n",
       "    </tr>\n",
       "    <tr>\n",
       "      <th>4</th>\n",
       "      <td>Norway</td>\n",
       "      <td>Residence</td>\n",
       "      <td>Both</td>\n",
       "      <td>1980</td>\n",
       "      <td>14705.0</td>\n",
       "      <td>18776.0</td>\n",
       "      <td>Europe</td>\n",
       "      <td>4085620.0</td>\n",
       "    </tr>\n",
       "  </tbody>\n",
       "</table>\n",
       "</div>"
      ],
      "text/plain": [
       "     Country   Criteria Coverage  Year  Migrants_out  Migrants_in  Continent  \\\n",
       "0  Australia  Residence     Both  1980       90860.0     184290.0  Australia   \n",
       "1    Denmark  Residence     Both  1980       29913.0      30311.0     Europe   \n",
       "2    Finland  Residence     Both  1980       14824.0      13626.0     Europe   \n",
       "3    Germany  Residence     Both  1980      439571.0     753436.0     Europe   \n",
       "4     Norway  Residence     Both  1980       14705.0      18776.0     Europe   \n",
       "\n",
       "   Population  \n",
       "0  14692000.0  \n",
       "1   5123027.0  \n",
       "2   4779535.0  \n",
       "3  78288576.0  \n",
       "4   4085620.0  "
      ]
     },
     "execution_count": 34,
     "metadata": {},
     "output_type": "execute_result"
    }
   ],
   "source": [
    "df3.head()"
   ]
  },
  {
   "cell_type": "code",
   "execution_count": 35,
   "metadata": {
    "collapsed": false
   },
   "outputs": [
    {
     "data": {
      "text/html": [
       "<div>\n",
       "<table border=\"1\" class=\"dataframe\">\n",
       "  <thead>\n",
       "    <tr style=\"text-align: right;\">\n",
       "      <th></th>\n",
       "      <th>Country</th>\n",
       "      <th>Criteria</th>\n",
       "      <th>Coverage</th>\n",
       "      <th>Year</th>\n",
       "      <th>Migrants_out</th>\n",
       "      <th>Migrants_in</th>\n",
       "      <th>Continent</th>\n",
       "      <th>Population</th>\n",
       "    </tr>\n",
       "  </thead>\n",
       "  <tbody>\n",
       "  </tbody>\n",
       "</table>\n",
       "</div>"
      ],
      "text/plain": [
       "Empty DataFrame\n",
       "Columns: [Country, Criteria, Coverage, Year, Migrants_out, Migrants_in, Continent, Population]\n",
       "Index: []"
      ]
     },
     "execution_count": 35,
     "metadata": {},
     "output_type": "execute_result"
    }
   ],
   "source": [
    "df3[df3['Population'].isnull()]"
   ]
  },
  {
   "cell_type": "markdown",
   "metadata": {},
   "source": [
    "That was easy (or probably nice pre-work :-) )"
   ]
  },
  {
   "cell_type": "markdown",
   "metadata": {},
   "source": [
    "## Make a sample plot for one year with ggplot"
   ]
  },
  {
   "cell_type": "code",
   "execution_count": 48,
   "metadata": {
    "collapsed": false
   },
   "outputs": [
    {
     "data": {
      "image/png": "[encoded data removed]",
      "text/plain": [
       "<matplotlib.figure.Figure at 0x12e75d30>"
      ]
     },
     "metadata": {},
     "output_type": "display_data"
    },
    {
     "data": {
      "text/plain": [
       "<ggplot: (19769215)>"
      ]
     },
     "execution_count": 48,
     "metadata": {},
     "output_type": "execute_result"
    }
   ],
   "source": [
    "(ggplot(df3[df3['Year'] == 2000], aes(x = 'Migrants_out', y = 'Migrants_in', color = 'Continent'))\n",
    "    + geom_point() + geom_abline(slope = 1, intercept = 0, color = 'black', size = 0.1) + ggtitle('Migration in 2000'))"
   ]
  },
  {
   "cell_type": "code",
   "execution_count": 49,
   "metadata": {
    "collapsed": true
   },
   "outputs": [],
   "source": [
    "df3.to_csv('../02_FlatData/BubbleChart.csv', sep = ',', index = False)"
   ]
  },
  {
   "cell_type": "code",
   "execution_count": 50,
   "metadata": {
    "collapsed": false
   },
   "outputs": [
    {
     "data": {
      "text/html": [
       "<div>\n",
       "<table border=\"1\" class=\"dataframe\">\n",
       "  <thead>\n",
       "    <tr style=\"text-align: right;\">\n",
       "      <th></th>\n",
       "      <th>Country</th>\n",
       "      <th>Criteria</th>\n",
       "      <th>Coverage</th>\n",
       "      <th>Year</th>\n",
       "      <th>Migrants_out</th>\n",
       "      <th>Migrants_in</th>\n",
       "      <th>Continent</th>\n",
       "      <th>Population</th>\n",
       "    </tr>\n",
       "  </thead>\n",
       "  <tbody>\n",
       "    <tr>\n",
       "      <th>0</th>\n",
       "      <td>Australia</td>\n",
       "      <td>Residence</td>\n",
       "      <td>Both</td>\n",
       "      <td>1980</td>\n",
       "      <td>90860.0</td>\n",
       "      <td>184290.0</td>\n",
       "      <td>Australia</td>\n",
       "      <td>14692000.0</td>\n",
       "    </tr>\n",
       "    <tr>\n",
       "      <th>1</th>\n",
       "      <td>Denmark</td>\n",
       "      <td>Residence</td>\n",
       "      <td>Both</td>\n",
       "      <td>1980</td>\n",
       "      <td>29913.0</td>\n",
       "      <td>30311.0</td>\n",
       "      <td>Europe</td>\n",
       "      <td>5123027.0</td>\n",
       "    </tr>\n",
       "    <tr>\n",
       "      <th>2</th>\n",
       "      <td>Finland</td>\n",
       "      <td>Residence</td>\n",
       "      <td>Both</td>\n",
       "      <td>1980</td>\n",
       "      <td>14824.0</td>\n",
       "      <td>13626.0</td>\n",
       "      <td>Europe</td>\n",
       "      <td>4779535.0</td>\n",
       "    </tr>\n",
       "    <tr>\n",
       "      <th>3</th>\n",
       "      <td>Germany</td>\n",
       "      <td>Residence</td>\n",
       "      <td>Both</td>\n",
       "      <td>1980</td>\n",
       "      <td>439571.0</td>\n",
       "      <td>753436.0</td>\n",
       "      <td>Europe</td>\n",
       "      <td>78288576.0</td>\n",
       "    </tr>\n",
       "    <tr>\n",
       "      <th>4</th>\n",
       "      <td>Norway</td>\n",
       "      <td>Residence</td>\n",
       "      <td>Both</td>\n",
       "      <td>1980</td>\n",
       "      <td>14705.0</td>\n",
       "      <td>18776.0</td>\n",
       "      <td>Europe</td>\n",
       "      <td>4085620.0</td>\n",
       "    </tr>\n",
       "  </tbody>\n",
       "</table>\n",
       "</div>"
      ],
      "text/plain": [
       "     Country   Criteria Coverage  Year  Migrants_out  Migrants_in  Continent  \\\n",
       "0  Australia  Residence     Both  1980       90860.0     184290.0  Australia   \n",
       "1    Denmark  Residence     Both  1980       29913.0      30311.0     Europe   \n",
       "2    Finland  Residence     Both  1980       14824.0      13626.0     Europe   \n",
       "3    Germany  Residence     Both  1980      439571.0     753436.0     Europe   \n",
       "4     Norway  Residence     Both  1980       14705.0      18776.0     Europe   \n",
       "\n",
       "   Population  \n",
       "0  14692000.0  \n",
       "1   5123027.0  \n",
       "2   4779535.0  \n",
       "3  78288576.0  \n",
       "4   4085620.0  "
      ]
     },
     "execution_count": 50,
     "metadata": {},
     "output_type": "execute_result"
    }
   ],
   "source": [
    "#For the sake of safety, let's change Macedonias name ...\n",
    "df3.head()"
   ]
  },
  {
   "cell_type": "code",
   "execution_count": 51,
   "metadata": {
    "collapsed": false
   },
   "outputs": [
    {
     "data": {
      "text/html": [
       "<div>\n",
       "<table border=\"1\" class=\"dataframe\">\n",
       "  <thead>\n",
       "    <tr style=\"text-align: right;\">\n",
       "      <th></th>\n",
       "      <th>Country</th>\n",
       "      <th>Criteria</th>\n",
       "      <th>Coverage</th>\n",
       "      <th>Year</th>\n",
       "      <th>Migrants_out</th>\n",
       "      <th>Migrants_in</th>\n",
       "      <th>Continent</th>\n",
       "      <th>Population</th>\n",
       "    </tr>\n",
       "  </thead>\n",
       "  <tbody>\n",
       "    <tr>\n",
       "      <th>274</th>\n",
       "      <td>Macedonia, FYR</td>\n",
       "      <td>Residence</td>\n",
       "      <td>Both</td>\n",
       "      <td>2000</td>\n",
       "      <td>165.0</td>\n",
       "      <td>639.0</td>\n",
       "      <td>Europe</td>\n",
       "      <td>2012051.0</td>\n",
       "    </tr>\n",
       "    <tr>\n",
       "      <th>401</th>\n",
       "      <td>Macedonia, FYR</td>\n",
       "      <td>Residence</td>\n",
       "      <td>Both</td>\n",
       "      <td>2004</td>\n",
       "      <td>669.0</td>\n",
       "      <td>1718.0</td>\n",
       "      <td>Europe</td>\n",
       "      <td>2038444.0</td>\n",
       "    </tr>\n",
       "    <tr>\n",
       "      <th>435</th>\n",
       "      <td>Macedonia, FYR</td>\n",
       "      <td>Residence</td>\n",
       "      <td>Both</td>\n",
       "      <td>2005</td>\n",
       "      <td>1300.0</td>\n",
       "      <td>2671.0</td>\n",
       "      <td>Europe</td>\n",
       "      <td>2042894.0</td>\n",
       "    </tr>\n",
       "    <tr>\n",
       "      <th>473</th>\n",
       "      <td>Macedonia, FYR</td>\n",
       "      <td>Residence</td>\n",
       "      <td>Both</td>\n",
       "      <td>2006</td>\n",
       "      <td>1108.0</td>\n",
       "      <td>2244.0</td>\n",
       "      <td>Europe</td>\n",
       "      <td>2047330.0</td>\n",
       "    </tr>\n",
       "    <tr>\n",
       "      <th>512</th>\n",
       "      <td>Macedonia, FYR</td>\n",
       "      <td>Residence</td>\n",
       "      <td>Both</td>\n",
       "      <td>2007</td>\n",
       "      <td>240.0</td>\n",
       "      <td>1320.0</td>\n",
       "      <td>Europe</td>\n",
       "      <td>2051427.0</td>\n",
       "    </tr>\n",
       "    <tr>\n",
       "      <th>550</th>\n",
       "      <td>Macedonia, FYR</td>\n",
       "      <td>Residence</td>\n",
       "      <td>Both</td>\n",
       "      <td>2008</td>\n",
       "      <td>751.0</td>\n",
       "      <td>NaN</td>\n",
       "      <td>Europe</td>\n",
       "      <td>2055266.0</td>\n",
       "    </tr>\n",
       "    <tr>\n",
       "      <th>640</th>\n",
       "      <td>Macedonia, FYR</td>\n",
       "      <td>Residence</td>\n",
       "      <td>Both</td>\n",
       "      <td>2011</td>\n",
       "      <td>1290.0</td>\n",
       "      <td>1464.0</td>\n",
       "      <td>Europe</td>\n",
       "      <td>2065888.0</td>\n",
       "    </tr>\n",
       "    <tr>\n",
       "      <th>673</th>\n",
       "      <td>Macedonia, FYR</td>\n",
       "      <td>Residence</td>\n",
       "      <td>Both</td>\n",
       "      <td>2012</td>\n",
       "      <td>1415.0</td>\n",
       "      <td>1715.0</td>\n",
       "      <td>Europe</td>\n",
       "      <td>2069270.0</td>\n",
       "    </tr>\n",
       "    <tr>\n",
       "      <th>879</th>\n",
       "      <td>Macedonia, FYR</td>\n",
       "      <td>Residence</td>\n",
       "      <td>Both</td>\n",
       "      <td>1996</td>\n",
       "      <td>NaN</td>\n",
       "      <td>850.0</td>\n",
       "      <td>Europe</td>\n",
       "      <td>1958303.0</td>\n",
       "    </tr>\n",
       "    <tr>\n",
       "      <th>907</th>\n",
       "      <td>Macedonia, FYR</td>\n",
       "      <td>Residence</td>\n",
       "      <td>Both</td>\n",
       "      <td>2001</td>\n",
       "      <td>NaN</td>\n",
       "      <td>458.0</td>\n",
       "      <td>Europe</td>\n",
       "      <td>2021585.0</td>\n",
       "    </tr>\n",
       "    <tr>\n",
       "      <th>910</th>\n",
       "      <td>Macedonia, FYR</td>\n",
       "      <td>Residence</td>\n",
       "      <td>Both</td>\n",
       "      <td>2002</td>\n",
       "      <td>NaN</td>\n",
       "      <td>2259.0</td>\n",
       "      <td>Europe</td>\n",
       "      <td>2028706.0</td>\n",
       "    </tr>\n",
       "  </tbody>\n",
       "</table>\n",
       "</div>"
      ],
      "text/plain": [
       "            Country   Criteria Coverage  Year  Migrants_out  Migrants_in  \\\n",
       "274  Macedonia, FYR  Residence     Both  2000         165.0        639.0   \n",
       "401  Macedonia, FYR  Residence     Both  2004         669.0       1718.0   \n",
       "435  Macedonia, FYR  Residence     Both  2005        1300.0       2671.0   \n",
       "473  Macedonia, FYR  Residence     Both  2006        1108.0       2244.0   \n",
       "512  Macedonia, FYR  Residence     Both  2007         240.0       1320.0   \n",
       "550  Macedonia, FYR  Residence     Both  2008         751.0          NaN   \n",
       "640  Macedonia, FYR  Residence     Both  2011        1290.0       1464.0   \n",
       "673  Macedonia, FYR  Residence     Both  2012        1415.0       1715.0   \n",
       "879  Macedonia, FYR  Residence     Both  1996           NaN        850.0   \n",
       "907  Macedonia, FYR  Residence     Both  2001           NaN        458.0   \n",
       "910  Macedonia, FYR  Residence     Both  2002           NaN       2259.0   \n",
       "\n",
       "    Continent  Population  \n",
       "274    Europe   2012051.0  \n",
       "401    Europe   2038444.0  \n",
       "435    Europe   2042894.0  \n",
       "473    Europe   2047330.0  \n",
       "512    Europe   2051427.0  \n",
       "550    Europe   2055266.0  \n",
       "640    Europe   2065888.0  \n",
       "673    Europe   2069270.0  \n",
       "879    Europe   1958303.0  \n",
       "907    Europe   2021585.0  \n",
       "910    Europe   2028706.0  "
      ]
     },
     "execution_count": 51,
     "metadata": {},
     "output_type": "execute_result"
    }
   ],
   "source": [
    "df3[df3['Country'].apply(lambda x: True if x.startswith('Mace') else False)]"
   ]
  },
  {
   "cell_type": "code",
   "execution_count": 53,
   "metadata": {
    "collapsed": true
   },
   "outputs": [],
   "source": [
    "df3.replace('Macedonia, FYR', 'Macedonia', inplace = True)"
   ]
  },
  {
   "cell_type": "code",
   "execution_count": 54,
   "metadata": {
    "collapsed": false
   },
   "outputs": [
    {
     "data": {
      "text/html": [
       "<div>\n",
       "<table border=\"1\" class=\"dataframe\">\n",
       "  <thead>\n",
       "    <tr style=\"text-align: right;\">\n",
       "      <th></th>\n",
       "      <th>Country</th>\n",
       "      <th>Criteria</th>\n",
       "      <th>Coverage</th>\n",
       "      <th>Year</th>\n",
       "      <th>Migrants_out</th>\n",
       "      <th>Migrants_in</th>\n",
       "      <th>Continent</th>\n",
       "      <th>Population</th>\n",
       "    </tr>\n",
       "  </thead>\n",
       "  <tbody>\n",
       "    <tr>\n",
       "      <th>274</th>\n",
       "      <td>Macedonia</td>\n",
       "      <td>Residence</td>\n",
       "      <td>Both</td>\n",
       "      <td>2000</td>\n",
       "      <td>165.0</td>\n",
       "      <td>639.0</td>\n",
       "      <td>Europe</td>\n",
       "      <td>2012051.0</td>\n",
       "    </tr>\n",
       "    <tr>\n",
       "      <th>401</th>\n",
       "      <td>Macedonia</td>\n",
       "      <td>Residence</td>\n",
       "      <td>Both</td>\n",
       "      <td>2004</td>\n",
       "      <td>669.0</td>\n",
       "      <td>1718.0</td>\n",
       "      <td>Europe</td>\n",
       "      <td>2038444.0</td>\n",
       "    </tr>\n",
       "    <tr>\n",
       "      <th>435</th>\n",
       "      <td>Macedonia</td>\n",
       "      <td>Residence</td>\n",
       "      <td>Both</td>\n",
       "      <td>2005</td>\n",
       "      <td>1300.0</td>\n",
       "      <td>2671.0</td>\n",
       "      <td>Europe</td>\n",
       "      <td>2042894.0</td>\n",
       "    </tr>\n",
       "    <tr>\n",
       "      <th>473</th>\n",
       "      <td>Macedonia</td>\n",
       "      <td>Residence</td>\n",
       "      <td>Both</td>\n",
       "      <td>2006</td>\n",
       "      <td>1108.0</td>\n",
       "      <td>2244.0</td>\n",
       "      <td>Europe</td>\n",
       "      <td>2047330.0</td>\n",
       "    </tr>\n",
       "    <tr>\n",
       "      <th>512</th>\n",
       "      <td>Macedonia</td>\n",
       "      <td>Residence</td>\n",
       "      <td>Both</td>\n",
       "      <td>2007</td>\n",
       "      <td>240.0</td>\n",
       "      <td>1320.0</td>\n",
       "      <td>Europe</td>\n",
       "      <td>2051427.0</td>\n",
       "    </tr>\n",
       "    <tr>\n",
       "      <th>550</th>\n",
       "      <td>Macedonia</td>\n",
       "      <td>Residence</td>\n",
       "      <td>Both</td>\n",
       "      <td>2008</td>\n",
       "      <td>751.0</td>\n",
       "      <td>NaN</td>\n",
       "      <td>Europe</td>\n",
       "      <td>2055266.0</td>\n",
       "    </tr>\n",
       "    <tr>\n",
       "      <th>640</th>\n",
       "      <td>Macedonia</td>\n",
       "      <td>Residence</td>\n",
       "      <td>Both</td>\n",
       "      <td>2011</td>\n",
       "      <td>1290.0</td>\n",
       "      <td>1464.0</td>\n",
       "      <td>Europe</td>\n",
       "      <td>2065888.0</td>\n",
       "    </tr>\n",
       "    <tr>\n",
       "      <th>673</th>\n",
       "      <td>Macedonia</td>\n",
       "      <td>Residence</td>\n",
       "      <td>Both</td>\n",
       "      <td>2012</td>\n",
       "      <td>1415.0</td>\n",
       "      <td>1715.0</td>\n",
       "      <td>Europe</td>\n",
       "      <td>2069270.0</td>\n",
       "    </tr>\n",
       "    <tr>\n",
       "      <th>879</th>\n",
       "      <td>Macedonia</td>\n",
       "      <td>Residence</td>\n",
       "      <td>Both</td>\n",
       "      <td>1996</td>\n",
       "      <td>NaN</td>\n",
       "      <td>850.0</td>\n",
       "      <td>Europe</td>\n",
       "      <td>1958303.0</td>\n",
       "    </tr>\n",
       "    <tr>\n",
       "      <th>907</th>\n",
       "      <td>Macedonia</td>\n",
       "      <td>Residence</td>\n",
       "      <td>Both</td>\n",
       "      <td>2001</td>\n",
       "      <td>NaN</td>\n",
       "      <td>458.0</td>\n",
       "      <td>Europe</td>\n",
       "      <td>2021585.0</td>\n",
       "    </tr>\n",
       "    <tr>\n",
       "      <th>910</th>\n",
       "      <td>Macedonia</td>\n",
       "      <td>Residence</td>\n",
       "      <td>Both</td>\n",
       "      <td>2002</td>\n",
       "      <td>NaN</td>\n",
       "      <td>2259.0</td>\n",
       "      <td>Europe</td>\n",
       "      <td>2028706.0</td>\n",
       "    </tr>\n",
       "  </tbody>\n",
       "</table>\n",
       "</div>"
      ],
      "text/plain": [
       "       Country   Criteria Coverage  Year  Migrants_out  Migrants_in Continent  \\\n",
       "274  Macedonia  Residence     Both  2000         165.0        639.0    Europe   \n",
       "401  Macedonia  Residence     Both  2004         669.0       1718.0    Europe   \n",
       "435  Macedonia  Residence     Both  2005        1300.0       2671.0    Europe   \n",
       "473  Macedonia  Residence     Both  2006        1108.0       2244.0    Europe   \n",
       "512  Macedonia  Residence     Both  2007         240.0       1320.0    Europe   \n",
       "550  Macedonia  Residence     Both  2008         751.0          NaN    Europe   \n",
       "640  Macedonia  Residence     Both  2011        1290.0       1464.0    Europe   \n",
       "673  Macedonia  Residence     Both  2012        1415.0       1715.0    Europe   \n",
       "879  Macedonia  Residence     Both  1996           NaN        850.0    Europe   \n",
       "907  Macedonia  Residence     Both  2001           NaN        458.0    Europe   \n",
       "910  Macedonia  Residence     Both  2002           NaN       2259.0    Europe   \n",
       "\n",
       "     Population  \n",
       "274   2012051.0  \n",
       "401   2038444.0  \n",
       "435   2042894.0  \n",
       "473   2047330.0  \n",
       "512   2051427.0  \n",
       "550   2055266.0  \n",
       "640   2065888.0  \n",
       "673   2069270.0  \n",
       "879   1958303.0  \n",
       "907   2021585.0  \n",
       "910   2028706.0  "
      ]
     },
     "execution_count": 54,
     "metadata": {},
     "output_type": "execute_result"
    }
   ],
   "source": [
    "df3[df3['Country'].apply(lambda x: True if x.startswith('Mace') else False)]"
   ]
  },
  {
   "cell_type": "code",
   "execution_count": 55,
   "metadata": {
    "collapsed": true
   },
   "outputs": [],
   "source": [
    "df3.to_csv('../02_FlatData/BubbleChart.csv', sep = ',', index = False)"
   ]
  },
  {
   "cell_type": "code",
   "execution_count": null,
   "metadata": {
    "collapsed": true
   },
   "outputs": [],
   "source": []
  }
 ],
 "metadata": {
  "kernelspec": {
   "display_name": "Python [Root]",
   "language": "python",
   "name": "Python [Root]"
  },
  "language_info": {
   "codemirror_mode": {
    "name": "ipython",
    "version": 2
   },
   "file_extension": ".py",
   "mimetype": "text/x-python",
   "name": "python",
   "nbconvert_exporter": "python",
   "pygments_lexer": "ipython2",
   "version": "2.7.12"
  }
 },
 "nbformat": 4,
 "nbformat_minor": 0
}
